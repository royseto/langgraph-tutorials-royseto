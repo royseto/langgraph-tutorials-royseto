{
  "nbformat": 4,
  "nbformat_minor": 0,
  "metadata": {
    "colab": {
      "provenance": [],
      "include_colab_link": true
    },
    "kernelspec": {
      "name": "python3",
      "display_name": "Python 3"
    },
    "language_info": {
      "name": "python"
    }
  },
  "cells": [
    {
      "cell_type": "markdown",
      "metadata": {
        "id": "view-in-github",
        "colab_type": "text"
      },
      "source": [
        "<a href=\"https://colab.research.google.com/github/royseto/langgraph-tutorials-royseto/blob/main/LangGraph_Multiply_Tool_02.ipynb\" target=\"_parent\"><img src=\"https://colab.research.google.com/assets/colab-badge.svg\" alt=\"Open In Colab\"/></a>"
      ]
    },
    {
      "cell_type": "markdown",
      "source": [
        "This colab notebook has Roy's work with the LangGraph Quickstart at https://langchain-ai.github.io/langgraph/tutorials/introduction/\n",
        "\n",
        "It starts with part 2, and pulls forward the refactoring from part 3 to use prebuilt funtions and classes for tool use."
      ],
      "metadata": {
        "id": "hDKHfZSW6FTd"
      }
    },
    {
      "cell_type": "markdown",
      "source": [
        "# Setup"
      ],
      "metadata": {
        "id": "0FCJDmbMFBwV"
      }
    },
    {
      "cell_type": "code",
      "source": [
        "%%capture --no-stderr\n",
        "%pip install -U langgraph langsmith langchain_anthropic"
      ],
      "metadata": {
        "id": "P2qAB2YR6NTd"
      },
      "execution_count": 15,
      "outputs": []
    },
    {
      "cell_type": "code",
      "source": [
        "import os\n",
        "from google.colab import userdata\n",
        "\n",
        "os.environ[\"ANTHROPIC_API_KEY\"] = userdata.get('ANTHROPIC_API_KEY')\n",
        "os.environ[\"LANGSMITH_API_KEY\"] = userdata.get('LANGSMITH_API_KEY')\n",
        "\n",
        "os.environ[\"LANGCHAIN_TRACING_V2\"] = \"true\"\n",
        "os.environ[\"LANGSMITH_PROJECT\"] = \"langgraph-quickstart\""
      ],
      "metadata": {
        "id": "OXJa8yCw66ts"
      },
      "execution_count": 16,
      "outputs": []
    },
    {
      "cell_type": "markdown",
      "source": [
        "REMOVE\n",
        "\n",
        "For Tavily hello world notebook, see https://colab.research.google.com/drive/1P16Y23P-1uSGLkQI50y0IUc3FdYgBGTW\n",
        "\n",
        "\"Tavily Search API is a search engine optimized for LLMs, aimed at efficient, quick and persistent search results.\" - https://docs.tavily.com/docs/welcome"
      ],
      "metadata": {
        "id": "cBlg-jGsFvpT"
      }
    },
    {
      "cell_type": "code",
      "source": [
        "\"\"\"\n",
        "%%capture --no-stderr\n",
        "%pip install -U tavily-python langchain_community\n",
        "\"\"\""
      ],
      "metadata": {
        "id": "Z377trWoF0Sd"
      },
      "execution_count": null,
      "outputs": []
    },
    {
      "cell_type": "code",
      "source": [
        "\"\"\"\n",
        "import os\n",
        "from google.colab import userdata\n",
        "os.environ[\"TAVILY_API_KEY\"] = userdata.get('TAVILY_API_KEY')\n",
        "\"\"\""
      ],
      "metadata": {
        "id": "doBFCWbqGg-z"
      },
      "execution_count": null,
      "outputs": []
    },
    {
      "cell_type": "code",
      "source": [
        "from langgraph.checkpoint.memory import MemorySaver\n",
        "\n",
        "memory = MemorySaver()"
      ],
      "metadata": {
        "id": "s3igkdaO4cCG"
      },
      "execution_count": 17,
      "outputs": []
    },
    {
      "cell_type": "code",
      "source": [
        "from langchain_core.tools import tool\n",
        "\n",
        "\n",
        "@tool\n",
        "def multiply(a: int, b: int) -> int:\n",
        "    \"\"\"Multiply two numbers.\"\"\"\n",
        "    return a * b\n",
        "\n",
        "\n",
        "# Let's inspect some of the attributes associated with the tool.\n",
        "print(multiply.name)\n",
        "print(multiply.description)\n",
        "print(multiply.args)"
      ],
      "metadata": {
        "colab": {
          "base_uri": "https://localhost:8080/"
        },
        "id": "r9B4IG8qCKVU",
        "outputId": "1ac6148c-b127-41b3-a257-3cb4b9b6dfb3"
      },
      "execution_count": 18,
      "outputs": [
        {
          "output_type": "stream",
          "name": "stdout",
          "text": [
            "multiply\n",
            "Multiply two numbers.\n",
            "{'a': {'title': 'A', 'type': 'integer'}, 'b': {'title': 'B', 'type': 'integer'}}\n"
          ]
        }
      ]
    },
    {
      "cell_type": "code",
      "source": [
        "from typing import Annotated\n",
        "\n",
        "from langchain_anthropic import ChatAnthropic\n",
        "from langchain_community.tools.tavily_search import TavilySearchResults\n",
        "from langchain_core.messages import BaseMessage\n",
        "from typing_extensions import TypedDict\n",
        "\n",
        "from langgraph.graph import StateGraph, START, END\n",
        "from langgraph.graph.message import add_messages\n",
        "from langgraph.prebuilt import ToolNode, tools_condition\n",
        "\n",
        "\n",
        "class State(TypedDict):\n",
        "    messages: Annotated[list, add_messages]\n",
        "\n",
        "\n",
        "graph_builder = StateGraph(State)\n",
        "\n",
        "\n",
        "#tool = TavilySearchResults(max_results=2)\n",
        "tool = multiply\n",
        "tools = [tool]\n",
        "llm = ChatAnthropic(model=\"claude-3-5-sonnet-20240620\")\n",
        "llm_with_tools = llm.bind_tools(tools)\n",
        "\n",
        "\n",
        "def chatbot(state: State):\n",
        "    return {\"messages\": [llm_with_tools.invoke(state[\"messages\"])]}\n",
        "\n",
        "\n",
        "graph_builder.add_node(\"chatbot\", chatbot)\n",
        "\n",
        "tool_node = ToolNode(tools=[tool])\n",
        "graph_builder.add_node(\"tools\", tool_node)\n",
        "\n",
        "graph_builder.add_conditional_edges(\n",
        "    \"chatbot\",\n",
        "    tools_condition,\n",
        ")\n",
        "# Any time a tool is called, we return to the chatbot to decide the next step\n",
        "graph_builder.add_edge(\"tools\", \"chatbot\")\n",
        "graph_builder.add_edge(START, \"chatbot\")"
      ],
      "metadata": {
        "colab": {
          "base_uri": "https://localhost:8080/"
        },
        "id": "MX4c1X4l4nnl",
        "outputId": "26f99fc6-3726-4cbe-8fd0-c0cead48d04c"
      },
      "execution_count": 19,
      "outputs": [
        {
          "output_type": "execute_result",
          "data": {
            "text/plain": [
              "<langgraph.graph.state.StateGraph at 0x7d487c5bfed0>"
            ]
          },
          "metadata": {},
          "execution_count": 19
        }
      ]
    },
    {
      "cell_type": "code",
      "source": [
        "graph = graph_builder.compile(checkpointer=memory)"
      ],
      "metadata": {
        "id": "yn-DKN9x4udJ"
      },
      "execution_count": 20,
      "outputs": []
    },
    {
      "cell_type": "code",
      "source": [
        "graph"
      ],
      "metadata": {
        "colab": {
          "base_uri": "https://localhost:8080/",
          "height": 266
        },
        "id": "ta_X8jso5xBa",
        "outputId": "d3149a40-190e-496e-9204-b1c83180ce54"
      },
      "execution_count": 21,
      "outputs": [
        {
          "output_type": "execute_result",
          "data": {
            "text/plain": [
              "<langgraph.graph.state.CompiledStateGraph object at 0x7d487c3ff790>"
            ],
            "image/png": "[encoded data removed]"
          },
          "metadata": {},
          "execution_count": 21
        }
      ]
    },
    {
      "cell_type": "code",
      "source": [
        "config = {\"configurable\": {\"thread_id\": \"1\"}}"
      ],
      "metadata": {
        "id": "zJRFeRDB5xsL"
      },
      "execution_count": 22,
      "outputs": []
    },
    {
      "cell_type": "code",
      "source": [
        "user_input = \"Hi there! My name is Will.\"\n",
        "\n",
        "# The config is the **second positional argument** to stream() or invoke()!\n",
        "events = graph.stream(\n",
        "    {\"messages\": [{\"role\": \"user\", \"content\": user_input}]},\n",
        "    config,\n",
        "    stream_mode=\"values\",\n",
        ")\n",
        "for event in events:\n",
        "    event[\"messages\"][-1].pretty_print()"
      ],
      "metadata": {
        "colab": {
          "base_uri": "https://localhost:8080/"
        },
        "id": "XCIpfGul6BbS",
        "outputId": "fc2129fd-33df-4bc7-9a31-5b1486d42f9b"
      },
      "execution_count": 23,
      "outputs": [
        {
          "output_type": "stream",
          "name": "stdout",
          "text": [
            "================================\u001b[1m Human Message \u001b[0m=================================\n",
            "\n",
            "Hi there! My name is Will.\n",
            "==================================\u001b[1m Ai Message \u001b[0m==================================\n",
            "\n",
            "Hello Will! It's nice to meet you. How can I assist you today? Is there anything specific you'd like to know or any task you need help with?\n"
          ]
        }
      ]
    },
    {
      "cell_type": "code",
      "source": [
        "user_input = \"Remember my name?\"\n",
        "\n",
        "# The config is the **second positional argument** to stream() or invoke()!\n",
        "events = graph.stream(\n",
        "    {\"messages\": [{\"role\": \"user\", \"content\": user_input}]},\n",
        "    config,\n",
        "    stream_mode=\"values\",\n",
        ")\n",
        "for event in events:\n",
        "    event[\"messages\"][-1].pretty_print()"
      ],
      "metadata": {
        "colab": {
          "base_uri": "https://localhost:8080/"
        },
        "id": "Gr5hV1bo6HLl",
        "outputId": "e09a3469-62ca-49c5-b7a1-831528ff16a3"
      },
      "execution_count": 24,
      "outputs": [
        {
          "output_type": "stream",
          "name": "stdout",
          "text": [
            "================================\u001b[1m Human Message \u001b[0m=================================\n",
            "\n",
            "Remember my name?\n",
            "==================================\u001b[1m Ai Message \u001b[0m==================================\n",
            "\n",
            "Of course, Will! I'll remember that your name is Will throughout our conversation. Is there anything in particular you'd like to discuss or any questions you have? I'm here to help with a wide range of topics or tasks.\n"
          ]
        }
      ]
    },
    {
      "cell_type": "code",
      "source": [
        "snapshot = graph.get_state(config)\n",
        "snapshot"
      ],
      "metadata": {
        "colab": {
          "base_uri": "https://localhost:8080/"
        },
        "id": "VoYSUuec6PvE",
        "outputId": "37ef5c49-69fd-4040-c818-a723adfd2ea3"
      },
      "execution_count": 25,
      "outputs": [
        {
          "output_type": "execute_result",
          "data": {
            "text/plain": [
              "StateSnapshot(values={'messages': [HumanMessage(content='Hi there! My name is Will.', additional_kwargs={}, response_metadata={}, id='ac914a9d-3f1f-41e4-afee-f1f4f187238e'), AIMessage(content=\"Hello Will! It's nice to meet you. How can I assist you today? Is there anything specific you'd like to know or any task you need help with?\", additional_kwargs={}, response_metadata={'id': 'msg_01VYUaqk1ftac7HDN4yAUGZM', 'model': 'claude-3-5-sonnet-20240620', 'stop_reason': 'end_turn', 'stop_sequence': None, 'usage': {'cache_creation_input_tokens': 0, 'cache_read_input_tokens': 0, 'input_tokens': 372, 'output_tokens': 37}}, id='run-319a849e-1ad8-45a1-9f93-ac3ff4ae52bd-0', usage_metadata={'input_tokens': 372, 'output_tokens': 37, 'total_tokens': 409, 'input_token_details': {'cache_creation': 0, 'cache_read': 0}}), HumanMessage(content='Remember my name?', additional_kwargs={}, response_metadata={}, id='4b751d8c-2df2-4546-9a45-ce0ea6f260c1'), AIMessage(content=\"Of course, Will! I'll remember that your name is Will throughout our conversation. Is there anything in particular you'd like to discuss or any questions you have? I'm here to help with a wide range of topics or tasks.\", additional_kwargs={}, response_metadata={'id': 'msg_01DhhSy2h7e6owSrsJEdRdoc', 'model': 'claude-3-5-sonnet-20240620', 'stop_reason': 'end_turn', 'stop_sequence': None, 'usage': {'cache_creation_input_tokens': 0, 'cache_read_input_tokens': 0, 'input_tokens': 416, 'output_tokens': 50}}, id='run-a548f3b9-4e2b-4aa8-9c3b-a27f6cd9824d-0', usage_metadata={'input_tokens': 416, 'output_tokens': 50, 'total_tokens': 466, 'input_token_details': {'cache_creation': 0, 'cache_read': 0}})]}, next=(), config={'configurable': {'thread_id': '1', 'checkpoint_ns': '', 'checkpoint_id': '1efe8c41-b960-6016-8004-9fe1838166ea'}}, metadata={'source': 'loop', 'writes': {'chatbot': {'messages': [AIMessage(content=\"Of course, Will! I'll remember that your name is Will throughout our conversation. Is there anything in particular you'd like to discuss or any questions you have? I'm here to help with a wide range of topics or tasks.\", additional_kwargs={}, response_metadata={'id': 'msg_01DhhSy2h7e6owSrsJEdRdoc', 'model': 'claude-3-5-sonnet-20240620', 'stop_reason': 'end_turn', 'stop_sequence': None, 'usage': {'cache_creation_input_tokens': 0, 'cache_read_input_tokens': 0, 'input_tokens': 416, 'output_tokens': 50}}, id='run-a548f3b9-4e2b-4aa8-9c3b-a27f6cd9824d-0', usage_metadata={'input_tokens': 416, 'output_tokens': 50, 'total_tokens': 466, 'input_token_details': {'cache_creation': 0, 'cache_read': 0}})]}}, 'thread_id': '1', 'step': 4, 'parents': {}}, created_at='2025-02-11T22:04:04.582371+00:00', parent_config={'configurable': {'thread_id': '1', 'checkpoint_ns': '', 'checkpoint_id': '1efe8c41-a62a-673d-8003-3f6aad48c18e'}}, tasks=())"
            ]
          },
          "metadata": {},
          "execution_count": 25
        }
      ]
    },
    {
      "cell_type": "code",
      "source": [
        "user_input = \"what is 6 * 7?\"\n",
        "\n",
        "# The config is the **second positional argument** to stream() or invoke()!\n",
        "events = graph.stream(\n",
        "    {\"messages\": [{\"role\": \"user\", \"content\": user_input}]},\n",
        "    config,\n",
        "    stream_mode=\"values\",\n",
        ")\n",
        "for event in events:\n",
        "    event[\"messages\"][-1].pretty_print()"
      ],
      "metadata": {
        "colab": {
          "base_uri": "https://localhost:8080/"
        },
        "id": "ALJyi_9Z6YbU",
        "outputId": "f997b248-f352-4a36-a180-48010c9382eb"
      },
      "execution_count": 26,
      "outputs": [
        {
          "output_type": "stream",
          "name": "stdout",
          "text": [
            "================================\u001b[1m Human Message \u001b[0m=================================\n",
            "\n",
            "what is 6 * 7?\n",
            "==================================\u001b[1m Ai Message \u001b[0m==================================\n",
            "\n",
            "[{'text': \"To calculate 6 * 7, I can use the multiply function that's available to me. Let me do that for you.\", 'type': 'text'}, {'id': 'toolu_01Hkq2W2rPtL64fBQMY2maog', 'input': {'a': 6, 'b': 7}, 'name': 'multiply', 'type': 'tool_use'}]\n",
            "Tool Calls:\n",
            "  multiply (toolu_01Hkq2W2rPtL64fBQMY2maog)\n",
            " Call ID: toolu_01Hkq2W2rPtL64fBQMY2maog\n",
            "  Args:\n",
            "    a: 6\n",
            "    b: 7\n",
            "=================================\u001b[1m Tool Message \u001b[0m=================================\n",
            "Name: multiply\n",
            "\n",
            "42\n",
            "==================================\u001b[1m Ai Message \u001b[0m==================================\n",
            "\n",
            "The result of 6 * 7 is 42.\n",
            "\n",
            "Is there anything else you'd like to calculate or any other questions you have, Will?\n"
          ]
        }
      ]
    },
    {
      "cell_type": "code",
      "source": [
        "user_input = \"tell me about flamingos\"\n",
        "\n",
        "# The config is the **second positional argument** to stream() or invoke()!\n",
        "events = graph.stream(\n",
        "    {\"messages\": [{\"role\": \"user\", \"content\": user_input}]},\n",
        "    config,\n",
        "    stream_mode=\"values\",\n",
        ")\n",
        "for event in events:\n",
        "    event[\"messages\"][-1].pretty_print()"
      ],
      "metadata": {
        "colab": {
          "base_uri": "https://localhost:8080/"
        },
        "id": "nLCJiSO46sZW",
        "outputId": "ed60bba8-f7c1-4128-eded-e164fb3859c2"
      },
      "execution_count": 27,
      "outputs": [
        {
          "output_type": "stream",
          "name": "stdout",
          "text": [
            "================================\u001b[1m Human Message \u001b[0m=================================\n",
            "\n",
            "tell me about flamingos\n",
            "==================================\u001b[1m Ai Message \u001b[0m==================================\n",
            "\n",
            "Certainly, Will! I'd be happy to tell you about flamingos. Flamingos are fascinating birds known for their distinctive pink coloration and unique appearance. Here are some interesting facts about flamingos:\n",
            "\n",
            "1. Appearance: Flamingos are known for their long necks, stilt-like legs, and most notably, their pink or reddish color. They have a curved beak that they use for filter feeding.\n",
            "\n",
            "2. Color: Their pink color comes from the food they eat. Flamingos get their rosy hue from carotenoid pigments in the algae and small crustaceans that make up their diet.\n",
            "\n",
            "3. Habitat: Flamingos are found in warm, watery regions on many continents. They prefer shallow lakes, mangrove swamps, and coastal lagoons.\n",
            "\n",
            "4. Species: There are six species of flamingo in the world, found in areas of Africa, Asia, Europe, and the Americas.\n",
            "\n",
            "5. Social behavior: Flamingos are very social birds and live in colonies that can number in the thousands.\n",
            "\n",
            "6. Feeding: They feed by stirring up the bottom of shallow waters with their feet and then scooping up tiny organisms with their specialized beaks.\n",
            "\n",
            "7. Breeding: Flamingos typically lay one egg on a mud mound. Both parents take turns incubating the egg and caring for the chick.\n",
            "\n",
            "8. Lifespan: In the wild, flamingos can live 20-30 years, and sometimes even longer in captivity.\n",
            "\n",
            "9. Standing on one leg: Flamingos are famous for standing on one leg. This behavior is thought to conserve body heat and energy.\n",
            "\n",
            "10. Cultural significance: Flamingos have been featured in art, literature, and popular culture for centuries, often symbolizing exoticism and flamboyance.\n",
            "\n",
            "Is there any specific aspect of flamingos you're particularly interested in, Will? I'd be happy to elaborate on any of these points or discuss other aspects of these unique birds.\n"
          ]
        }
      ]
    },
    {
      "cell_type": "code",
      "source": [
        "user_input = \"is 6*8 greater than 7 * 7?\"\n",
        "\n",
        "# The config is the **second positional argument** to stream() or invoke()!\n",
        "events = graph.stream(\n",
        "    {\"messages\": [{\"role\": \"user\", \"content\": user_input}]},\n",
        "    config,\n",
        "    stream_mode=\"values\",\n",
        ")\n",
        "for event in events:\n",
        "    event[\"messages\"][-1].pretty_print()"
      ],
      "metadata": {
        "id": "Psu_W8hR_zPy",
        "colab": {
          "base_uri": "https://localhost:8080/"
        },
        "outputId": "09125a8c-48ff-4dd0-a119-548efb64b4c7"
      },
      "execution_count": 28,
      "outputs": [
        {
          "output_type": "stream",
          "name": "stdout",
          "text": [
            "================================\u001b[1m Human Message \u001b[0m=================================\n",
            "\n",
            "is 6*8 greater than 7 * 7?\n",
            "==================================\u001b[1m Ai Message \u001b[0m==================================\n",
            "\n",
            "[{'text': \"To answer this question, Will, we need to calculate both 6*8 and 7*7, and then compare the results. Let's use the multiply function to do these calculations.\", 'type': 'text'}, {'id': 'toolu_01WDZ9dsWA3cZEGDV3rRU9c1', 'input': {'a': 6, 'b': 8}, 'name': 'multiply', 'type': 'tool_use'}]\n",
            "Tool Calls:\n",
            "  multiply (toolu_01WDZ9dsWA3cZEGDV3rRU9c1)\n",
            " Call ID: toolu_01WDZ9dsWA3cZEGDV3rRU9c1\n",
            "  Args:\n",
            "    a: 6\n",
            "    b: 8\n",
            "=================================\u001b[1m Tool Message \u001b[0m=================================\n",
            "Name: multiply\n",
            "\n",
            "48\n",
            "==================================\u001b[1m Ai Message \u001b[0m==================================\n",
            "\n",
            "[{'text': \"The result of 6 * 8 is 48.\\n\\nNow, let's calculate 7 * 7:\", 'type': 'text'}, {'id': 'toolu_011Gb1ZocCXVnsiEbUC1Xnqg', 'input': {'a': 7, 'b': 7}, 'name': 'multiply', 'type': 'tool_use'}]\n",
            "Tool Calls:\n",
            "  multiply (toolu_011Gb1ZocCXVnsiEbUC1Xnqg)\n",
            " Call ID: toolu_011Gb1ZocCXVnsiEbUC1Xnqg\n",
            "  Args:\n",
            "    a: 7\n",
            "    b: 7\n",
            "=================================\u001b[1m Tool Message \u001b[0m=================================\n",
            "Name: multiply\n",
            "\n",
            "49\n",
            "==================================\u001b[1m Ai Message \u001b[0m==================================\n",
            "\n",
            "The result of 7 * 7 is 49.\n",
            "\n",
            "Now we can compare these results:\n",
            "\n",
            "6 * 8 = 48\n",
            "7 * 7 = 49\n",
            "\n",
            "49 is greater than 48, so the answer to your question is: No, 6*8 is not greater than 7*7.\n",
            "\n",
            "To put it another way, 7 * 7 is greater than 6 * 8.\n",
            "\n",
            "Is there anything else you'd like to know or compare, Will?\n"
          ]
        }
      ]
    },
    {
      "cell_type": "code",
      "source": [
        "def stream_graph_updates(user_input: str):\n",
        "    for event in graph.stream(\n",
        "        {\"messages\": [{\"role\": \"user\", \"content\": user_input}]},\n",
        "        config\n",
        "    ):\n",
        "        for value in event.values():\n",
        "            print(\"Assistant:\", value[\"messages\"][-1].content)\n",
        "\n",
        "\n",
        "while True:\n",
        "    try:\n",
        "        user_input = input(\"User: \")\n",
        "        if user_input.lower() in [\"quit\", \"exit\", \"q\"]:\n",
        "            print(\"Goodbye!\")\n",
        "            break\n",
        "\n",
        "        stream_graph_updates(user_input)\n",
        "    except:\n",
        "        # fallback if input() is not available\n",
        "        user_input = \"What do you know about LangGraph?\"\n",
        "        print(\"User: \" + user_input)\n",
        "        stream_graph_updates(user_input)\n",
        "        break"
      ],
      "metadata": {
        "colab": {
          "base_uri": "https://localhost:8080/"
        },
        "id": "D5tIgFR-DC5c",
        "outputId": "c4e62f7d-8e69-4c25-9fa9-67c987ba9fc5"
      },
      "execution_count": 30,
      "outputs": [
        {
          "output_type": "stream",
          "name": "stdout",
          "text": [
            "User: is 4 * 5 equal to 5 * 4?\n",
            "Assistant: [{'text': \"To answer this question, Will, we need to calculate both 4 * 5 and 5 * 4 using the multiply function, and then compare the results. Let's do that:\", 'type': 'text'}, {'id': 'toolu_014UUEQRf48nsGugCyuHwwxN', 'input': {'a': 4, 'b': 5}, 'name': 'multiply', 'type': 'tool_use'}]\n",
            "Assistant: 20\n",
            "Assistant: [{'text': \"The result of 4 * 5 is 20.\\n\\nNow, let's calculate 5 * 4:\", 'type': 'text'}, {'id': 'toolu_01RRiccbtCL1GUusuChAtbBi', 'input': {'a': 5, 'b': 4}, 'name': 'multiply', 'type': 'tool_use'}]\n",
            "Assistant: 20\n",
            "Assistant: The result of 5 * 4 is also 20.\n",
            "\n",
            "So, to answer your question: Yes, 4 * 5 is equal to 5 * 4. Both calculations result in 20.\n",
            "\n",
            "This demonstrates an important property of multiplication called the commutative property. The commutative property states that changing the order of the factors does not change the product. In other words, for any two numbers a and b, a * b = b * a.\n",
            "\n",
            "Is there anything else you'd like to know about multiplication or math properties, Will?\n",
            "User: is 4 * 5 the same as 10 + 10?\n",
            "Assistant: [{'text': \"To answer this question, Will, we need to calculate 4 * 5 using the multiply function and then compare it to 10 + 10. Let's start with the multiplication:\", 'type': 'text'}, {'id': 'toolu_01EQXarMrifCh2seJ2jwAxN6', 'input': {'a': 4, 'b': 5}, 'name': 'multiply', 'type': 'tool_use'}]\n",
            "Assistant: 20\n",
            "Assistant: The result of 4 * 5 is 20.\n",
            "\n",
            "Now, let's consider 10 + 10:\n",
            "10 + 10 = 20\n",
            "\n",
            "Comparing the results:\n",
            "4 * 5 = 20\n",
            "10 + 10 = 20\n",
            "\n",
            "So, the answer to your question is: Yes, 4 * 5 is the same as 10 + 10. Both expressions equal 20.\n",
            "\n",
            "This is an interesting observation because it shows that sometimes we can represent the same quantity in different ways:\n",
            "- As a multiplication: 4 * 5\n",
            "- As an addition: 10 + 10\n",
            "\n",
            "This relationship can be useful in various mathematical and practical situations. It's a good example of how different operations (in this case, multiplication and addition) can lead to the same result.\n",
            "\n",
            "Is there anything else you'd like to explore about these mathematical relationships, Will?\n",
            "User: q\n",
            "Goodbye!\n"
          ]
        }
      ]
    },
    {
      "cell_type": "code",
      "source": [],
      "metadata": {
        "id": "eSt6cQcNDtfg"
      },
      "execution_count": null,
      "outputs": []
    }
  ]
}