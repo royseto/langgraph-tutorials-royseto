{
  "nbformat": 4,
  "nbformat_minor": 0,
  "metadata": {
    "colab": {
      "provenance": [],
      "include_colab_link": true
    },
    "kernelspec": {
      "name": "python3",
      "display_name": "Python 3"
    },
    "language_info": {
      "name": "python"
    }
  },
  "cells": [
    {
      "cell_type": "markdown",
      "metadata": {
        "id": "view-in-github",
        "colab_type": "text"
      },
      "source": [
        "<a href=\"https://colab.research.google.com/github/royseto/langgraph-tutorials-royseto/blob/main/LangGraph_Quickstart_part_1_openai_royseto.ipynb\" target=\"_parent\"><img src=\"https://colab.research.google.com/assets/colab-badge.svg\" alt=\"Open In Colab\"/></a>"
      ]
    },
    {
      "cell_type": "markdown",
      "source": [
        "This colab notebook has Roy's work with the LangGraph Quickstart at https://langchain-ai.github.io/langgraph/tutorials/introduction/"
      ],
      "metadata": {
        "id": "hDKHfZSW6FTd"
      }
    },
    {
      "cell_type": "markdown",
      "source": [
        "# Setup"
      ],
      "metadata": {
        "id": "0FCJDmbMFBwV"
      }
    },
    {
      "cell_type": "code",
      "source": [
        "%%capture --no-stderr\n",
        "%pip install -U langgraph langsmith langchain_openai"
      ],
      "metadata": {
        "id": "P2qAB2YR6NTd"
      },
      "execution_count": 5,
      "outputs": []
    },
    {
      "cell_type": "code",
      "source": [
        "\"\"\"\n",
        "The LangGraph Quickstart gets API keys interactively using `getpass`.\n",
        "On colab, get them from colab secrets instead. Commenting this out.\n",
        "\n",
        "import getpass\n",
        "import os\n",
        "\n",
        "\n",
        "def _set_env(var: str):\n",
        "    if not os.environ.get(var):\n",
        "        os.environ[var] = getpass.getpass(f\"{var}: \")\n",
        "\n",
        "\n",
        "_set_env(\"ANTHROPIC_API_KEY\")\n",
        "\"\"\""
      ],
      "metadata": {
        "colab": {
          "base_uri": "https://localhost:8080/",
          "height": 71
        },
        "id": "eYZZTMdo7eav",
        "outputId": "8894b9a7-6c05-4d90-eadf-51fce5aa3c4b"
      },
      "execution_count": 6,
      "outputs": [
        {
          "output_type": "execute_result",
          "data": {
            "text/plain": [
              "'\\nThe LangGraph Quickstart gets API keys interactively using `getpass`.\\nOn colab, get them from colab secrets instead. Commenting this out.\\n\\nimport getpass\\nimport os\\n\\n\\ndef _set_env(var: str):\\n    if not os.environ.get(var):\\n        os.environ[var] = getpass.getpass(f\"{var}: \")\\n\\n\\n_set_env(\"ANTHROPIC_API_KEY\")\\n'"
            ],
            "application/vnd.google.colaboratory.intrinsic+json": {
              "type": "string"
            }
          },
          "metadata": {},
          "execution_count": 6
        }
      ]
    },
    {
      "cell_type": "code",
      "source": [
        "import os\n",
        "from google.colab import userdata\n",
        "\n",
        "os.environ[\"OPENAI_API_KEY\"] = userdata.get('OPENAI_API_KEY')\n",
        "os.environ[\"LANGSMITH_API_KEY\"] = userdata.get('LANGSMITH_API_KEY')\n",
        "\n",
        "os.environ[\"LANGCHAIN_TRACING_V2\"] = \"true\"\n",
        "os.environ[\"LANGSMITH_PROJECT\"] = \"langgraph-quickstart\""
      ],
      "metadata": {
        "id": "OXJa8yCw66ts"
      },
      "execution_count": 7,
      "outputs": []
    },
    {
      "cell_type": "markdown",
      "source": [
        "# Part 1: Build a Basic Chatbot"
      ],
      "metadata": {
        "id": "5g0w6dnZFNXz"
      }
    },
    {
      "cell_type": "code",
      "source": [
        "from typing import Annotated\n",
        "\n",
        "from typing_extensions import TypedDict\n",
        "\n",
        "from langgraph.graph import StateGraph, START, END\n",
        "from langgraph.graph.message import add_messages\n",
        "\n",
        "\n",
        "class State(TypedDict):\n",
        "    # Messages have the type \"list\". The `add_messages` function\n",
        "    # in the annotation defines how this state key should be updated\n",
        "    # (in this case, it appends messages to the list, rather than overwriting them)\n",
        "    messages: Annotated[list, add_messages]\n",
        "\n",
        "\n",
        "graph_builder = StateGraph(State)"
      ],
      "metadata": {
        "id": "dZw6mkB79GhX"
      },
      "execution_count": 8,
      "outputs": []
    },
    {
      "cell_type": "code",
      "source": [
        "from langchain_openai import ChatOpenAI\n",
        "\n",
        "#llm = ChatAnthropic(model=\"claude-3-5-sonnet-20240620\")\n",
        "llm = ChatOpenAI(model=\"gpt-4o\")\n",
        "\n",
        "def chatbot(state: State):\n",
        "    return {\"messages\": [llm.invoke(state[\"messages\"])]}\n",
        "\n",
        "\n",
        "# The first argument is the unique node name\n",
        "# The second argument is the function or object that will be called whenever\n",
        "# the node is used.\n",
        "graph_builder.add_node(\"chatbot\", chatbot)"
      ],
      "metadata": {
        "colab": {
          "base_uri": "https://localhost:8080/"
        },
        "id": "Fa9n_n379hXq",
        "outputId": "9c1112a8-cf15-44f9-805d-734f589df262"
      },
      "execution_count": 9,
      "outputs": [
        {
          "output_type": "execute_result",
          "data": {
            "text/plain": [
              "<langgraph.graph.state.StateGraph at 0x78c42433cbd0>"
            ]
          },
          "metadata": {},
          "execution_count": 9
        }
      ]
    },
    {
      "cell_type": "code",
      "source": [
        "graph_builder.add_edge(START, \"chatbot\")"
      ],
      "metadata": {
        "colab": {
          "base_uri": "https://localhost:8080/"
        },
        "id": "HJoE25m3-9W3",
        "outputId": "fe581b57-a3ce-472a-abe2-8ec9d17c3cf5"
      },
      "execution_count": 10,
      "outputs": [
        {
          "output_type": "execute_result",
          "data": {
            "text/plain": [
              "<langgraph.graph.state.StateGraph at 0x78c42433cbd0>"
            ]
          },
          "metadata": {},
          "execution_count": 10
        }
      ]
    },
    {
      "cell_type": "code",
      "source": [
        "graph_builder.add_edge(\"chatbot\", END)"
      ],
      "metadata": {
        "colab": {
          "base_uri": "https://localhost:8080/"
        },
        "id": "Sh11_UaF_kIZ",
        "outputId": "d8140691-bcf6-46d5-f713-40cc9168e1da"
      },
      "execution_count": 11,
      "outputs": [
        {
          "output_type": "execute_result",
          "data": {
            "text/plain": [
              "<langgraph.graph.state.StateGraph at 0x78c42433cbd0>"
            ]
          },
          "metadata": {},
          "execution_count": 11
        }
      ]
    },
    {
      "cell_type": "code",
      "source": [
        "graph = graph_builder.compile()"
      ],
      "metadata": {
        "id": "2i0sgD9j_uD0"
      },
      "execution_count": 12,
      "outputs": []
    },
    {
      "cell_type": "code",
      "source": [
        "graph"
      ],
      "metadata": {
        "colab": {
          "base_uri": "https://localhost:8080/",
          "height": 251
        },
        "id": "Ysqi-yU2_xrr",
        "outputId": "dc804086-1062-421d-b143-2d912e6e1f47"
      },
      "execution_count": 13,
      "outputs": [
        {
          "output_type": "execute_result",
          "data": {
            "text/plain": [
              "<langgraph.graph.state.CompiledStateGraph object at 0x78c40f0f1e50>"
            ],
            "image/png": "[encoded data removed]"
          },
          "metadata": {},
          "execution_count": 13
        }
      ]
    },
    {
      "cell_type": "code",
      "source": [
        "from IPython.display import Image, display\n",
        "\n",
        "try:\n",
        "    display(Image(graph.get_graph().draw_mermaid_png()))\n",
        "except Exception:\n",
        "    # This requires some extra dependencies and is optional\n",
        "    pass"
      ],
      "metadata": {
        "colab": {
          "base_uri": "https://localhost:8080/",
          "height": 251
        },
        "id": "Jp1VlqRf_1kl",
        "outputId": "d0a948c0-5ab2-4a3c-8bd8-69086e82b0bb"
      },
      "execution_count": 14,
      "outputs": [
        {
          "output_type": "display_data",
          "data": {
            "image/png": "[encoded data removed]",
            "text/plain": [
              "<IPython.core.display.Image object>"
            ]
          },
          "metadata": {}
        }
      ]
    },
    {
      "cell_type": "code",
      "source": [
        "def stream_graph_updates(user_input: str):\n",
        "    for event in graph.stream({\"messages\": [{\"role\": \"user\", \"content\": user_input}]}):\n",
        "        for value in event.values():\n",
        "            print(\"Assistant:\", value[\"messages\"][-1].content)\n",
        "\n",
        "\n",
        "while True:\n",
        "    try:\n",
        "        user_input = input(\"User: \")\n",
        "        if user_input.lower() in [\"quit\", \"exit\", \"q\"]:\n",
        "            print(\"Goodbye!\")\n",
        "            break\n",
        "\n",
        "        stream_graph_updates(user_input)\n",
        "    except:\n",
        "        # fallback if input() is not available\n",
        "        user_input = \"What do you know about LangGraph?\"\n",
        "        print(\"User: \" + user_input)\n",
        "        stream_graph_updates(user_input)\n",
        "        break"
      ],
      "metadata": {
        "colab": {
          "base_uri": "https://localhost:8080/"
        },
        "id": "OxgNrhooAWDp",
        "outputId": "d6936258-5c3a-4766-a668-9ba32c906f73"
      },
      "execution_count": 15,
      "outputs": [
        {
          "output_type": "stream",
          "name": "stdout",
          "text": [
            "User: tell me about chunky monkey ice cream\n",
            "Assistant: Chunky Monkey is a popular ice cream flavor produced by Ben & Jerry's, known for its distinctive combination of flavors and textures. This ice cream features a rich banana base, which is complemented by fudge chunks and walnuts. The blend of banana, chocolate, and nuts creates a unique and indulgent treat that has been well-received by fans of Ben & Jerry's. Like many of their creations, Chunky Monkey is known for its playful name and quirky, fun approach to flavors, aligning with Ben & Jerry's reputation for creative and socially conscious products.\n",
            "User: What do you know about orangutans?\n",
            "Assistant: Orangutans are large primates and one of the great apes, which also include gorillas, chimpanzees, and bonobos. They are primarily known for their distinct reddish-brown hair and highly intelligent behavior. Here are some key points about orangutans:\n",
            "\n",
            "1. **Species and Habitat**: There are three species of orangutans: the Bornean orangutan (*Pongo pygmaeus*), the Sumatran orangutan (*Pongo abelii*), and the Tapanuli orangutan (*Pongo tapanuliensis*). The Bornean species is native to the island of Borneo, while the Sumatran and Tapanuli species are found on the island of Sumatra in Indonesia. Orangutans inhabit tropical rainforests, where they spend most of their time in the trees.\n",
            "\n",
            "2. **Physical Characteristics**: Orangutans are the largest arboreal mammals and possess long arms, which are useful for swinging from tree to tree. Adult males have large cheek pads, known as flanges, and a throat pouch that helps amplify their calls.\n",
            "\n",
            "3. **Diet and Foraging**: Their diet mainly consists of fruit, but they also eat leaves, bark, insects, and occasionally small mammals. They are known for their ability to use tools to help forage for food, such as using sticks to extract insects from tree bark.\n",
            "\n",
            "4. **Social Behavior**: Orangutans are generally more solitary than other great apes. Adult males typically live alone, while females may be accompanied by their offspring. Social interactions mainly occur during feeding or at times when food is abundant.\n",
            "\n",
            "5. **Reproduction and Lifespan**: Orangutans have a long gestation period of about 8.5 months and tend to have single offspring. They have one of the longest interbirth intervals of any mammal, usually around 7 to 9 years. Young orangutans stay with their mothers for 7 to 8 years to learn essential survival skills.\n",
            "\n",
            "6. **Conservation Status**: All orangutan species are critically endangered due to habitat loss, primarily driven by deforestation for palm oil plantations, illegal logging, and mining. They are also threatened by poaching and the illegal pet trade.\n",
            "\n",
            "7. **Intelligence and Communication**: Orangutans are highly intelligent and have shown the ability to learn sign language, use tools, and exhibit problem-solving skills. They communicate using a variety of vocalizations, gestures, and facial expressions.\n",
            "\n",
            "Conservation efforts are crucial to protecting the remaining populations, and various organizations work to preserve their habitats, rehabilitate rescued individuals, and raise awareness about the threats they face.\n",
            "User: quit\n",
            "Goodbye!\n"
          ]
        }
      ]
    },
    {
      "cell_type": "markdown",
      "source": [
        "# Part 2: 🛠️ Enhancing the Chatbot with Tools"
      ],
      "metadata": {
        "id": "hRaHgKPlEurt"
      }
    },
    {
      "cell_type": "markdown",
      "source": [
        "For Tavily hello world notebook, see https://colab.research.google.com/drive/1P16Y23P-1uSGLkQI50y0IUc3FdYgBGTW\n",
        "\n",
        "\"Tavily Search API is a search engine optimized for LLMs, aimed at efficient, quick and persistent search results.\" - https://docs.tavily.com/docs/welcome"
      ],
      "metadata": {
        "id": "cBlg-jGsFvpT"
      }
    },
    {
      "cell_type": "code",
      "source": [
        "%%capture --no-stderr\n",
        "%pip install -U tavily-python langchain_community"
      ],
      "metadata": {
        "id": "Z377trWoF0Sd"
      },
      "execution_count": null,
      "outputs": []
    },
    {
      "cell_type": "code",
      "source": [
        "import os\n",
        "from google.colab import userdata\n",
        "os.environ[\"TAVILY_API_KEY\"] = userdata.get('TAVILY_API_KEY')"
      ],
      "metadata": {
        "id": "doBFCWbqGg-z"
      },
      "execution_count": null,
      "outputs": []
    },
    {
      "cell_type": "code",
      "source": [
        "from langchain_community.tools.tavily_search import TavilySearchResults\n",
        "\n",
        "tool = TavilySearchResults(max_results=2)\n",
        "tools = [tool]\n",
        "tool.invoke(\"What's a 'node' in LangGraph?\")"
      ],
      "metadata": {
        "colab": {
          "base_uri": "https://localhost:8080/"
        },
        "id": "ce8DcjKzGyYq",
        "outputId": "9cad6615-5cb6-4800-9124-89a5e5de90e2"
      },
      "execution_count": null,
      "outputs": [
        {
          "output_type": "execute_result",
          "data": {
            "text/plain": [
              "[{'url': 'https://langchain-ai.github.io/langgraph/concepts/low_level/',\n",
              "  'content': 'Nodes¶ In LangGraph, nodes are typically python functions (sync or async) where the first positional argument is the state, and (optionally), the second positional argument is a \"config\", containing optional configurable parameters (such as a thread_id). Similar to NetworkX, you add these nodes to a graph using the add_node method:'},\n",
              " {'url': 'https://medium.com/@cplog/introduction-to-langgraph-a-beginners-guide-14f9be027141',\n",
              "  'content': 'Nodes: Nodes are the building blocks of your LangGraph. Each node represents a function or a computation step. You define nodes to perform specific tasks, such as processing input, making'}]"
            ]
          },
          "metadata": {},
          "execution_count": 14
        }
      ]
    },
    {
      "cell_type": "code",
      "source": [
        "from typing import Annotated\n",
        "\n",
        "from langchain_anthropic import ChatAnthropic\n",
        "from typing_extensions import TypedDict\n",
        "\n",
        "from langgraph.graph import StateGraph, START, END\n",
        "from langgraph.graph.message import add_messages\n",
        "\n",
        "\n",
        "class State(TypedDict):\n",
        "    messages: Annotated[list, add_messages]\n",
        "\n",
        "\n",
        "graph_builder = StateGraph(State)\n",
        "\n",
        "\n",
        "#llm = ChatAnthropic(model=\"claude-3-5-sonnet-20240620\")\n",
        "llm = ChatAnthropic(model=\"claude-3-5-sonnet-20241022\")\n",
        "# Modification: tell the LLM which tools it can call\n",
        "llm_with_tools = llm.bind_tools(tools)\n",
        "\n",
        "\n",
        "def chatbot(state: State):\n",
        "    return {\"messages\": [llm_with_tools.invoke(state[\"messages\"])]}\n",
        "\n",
        "\n",
        "graph_builder.add_node(\"chatbot\", chatbot)"
      ],
      "metadata": {
        "colab": {
          "base_uri": "https://localhost:8080/"
        },
        "id": "7JlWz5q4HD3-",
        "outputId": "0bc4f80f-cd2c-43c3-9d18-3eef7306789e"
      },
      "execution_count": null,
      "outputs": [
        {
          "output_type": "execute_result",
          "data": {
            "text/plain": [
              "<langgraph.graph.state.StateGraph at 0x7f07899b4410>"
            ]
          },
          "metadata": {},
          "execution_count": 15
        }
      ]
    },
    {
      "cell_type": "code",
      "source": [
        "import json\n",
        "\n",
        "from langchain_core.messages import ToolMessage\n",
        "\n",
        "\n",
        "class BasicToolNode:\n",
        "    \"\"\"A node that runs the tools requested in the last AIMessage.\"\"\"\n",
        "\n",
        "    def __init__(self, tools: list) -> None:\n",
        "        self.tools_by_name = {tool.name: tool for tool in tools}\n",
        "\n",
        "    def __call__(self, inputs: dict):\n",
        "        if messages := inputs.get(\"messages\", []):\n",
        "            message = messages[-1]\n",
        "        else:\n",
        "            raise ValueError(\"No message found in input\")\n",
        "        outputs = []\n",
        "        for tool_call in message.tool_calls:\n",
        "            tool_result = self.tools_by_name[tool_call[\"name\"]].invoke(\n",
        "                tool_call[\"args\"]\n",
        "            )\n",
        "            outputs.append(\n",
        "                ToolMessage(\n",
        "                    content=json.dumps(tool_result),\n",
        "                    name=tool_call[\"name\"],\n",
        "                    tool_call_id=tool_call[\"id\"],\n",
        "                )\n",
        "            )\n",
        "        return {\"messages\": outputs}\n",
        "\n",
        "\n",
        "tool_node = BasicToolNode(tools=[tool])\n",
        "graph_builder.add_node(\"tools\", tool_node)"
      ],
      "metadata": {
        "colab": {
          "base_uri": "https://localhost:8080/"
        },
        "id": "0j81rRhqHx9Z",
        "outputId": "4081ba77-9ee6-43d3-aa55-0a438a273871"
      },
      "execution_count": null,
      "outputs": [
        {
          "output_type": "execute_result",
          "data": {
            "text/plain": [
              "<langgraph.graph.state.StateGraph at 0x7f07899b4410>"
            ]
          },
          "metadata": {},
          "execution_count": 16
        }
      ]
    },
    {
      "cell_type": "code",
      "source": [
        "def route_tools(\n",
        "    state: State,\n",
        "):\n",
        "    \"\"\"\n",
        "    Use in the conditional_edge to route to the ToolNode if the last message\n",
        "    has tool calls. Otherwise, route to the end.\n",
        "    \"\"\"\n",
        "    if isinstance(state, list):\n",
        "        ai_message = state[-1]\n",
        "    elif messages := state.get(\"messages\", []):\n",
        "        ai_message = messages[-1]\n",
        "    else:\n",
        "        raise ValueError(f\"No messages found in input state to tool_edge: {state}\")\n",
        "    if hasattr(ai_message, \"tool_calls\") and len(ai_message.tool_calls) > 0:\n",
        "        return \"tools\"\n",
        "    return END\n",
        "\n",
        "\n",
        "# The `tools_condition` function returns \"tools\" if the chatbot asks to use a tool, and \"END\" if\n",
        "# it is fine directly responding. This conditional routing defines the main agent loop.\n",
        "graph_builder.add_conditional_edges(\n",
        "    \"chatbot\",\n",
        "    route_tools,\n",
        "    # The following dictionary lets you tell the graph to interpret the condition's outputs as a specific node\n",
        "    # It defaults to the identity function, but if you\n",
        "    # want to use a node named something else apart from \"tools\",\n",
        "    # You can update the value of the dictionary to something else\n",
        "    # e.g., \"tools\": \"my_tools\"\n",
        "    {\"tools\": \"tools\", END: END},\n",
        ")\n",
        "# Any time a tool is called, we return to the chatbot to decide the next step\n",
        "graph_builder.add_edge(\"tools\", \"chatbot\")\n",
        "graph_builder.add_edge(START, \"chatbot\")\n",
        "graph = graph_builder.compile()"
      ],
      "metadata": {
        "id": "szMOo5onIZsU"
      },
      "execution_count": null,
      "outputs": []
    },
    {
      "cell_type": "code",
      "source": [
        "graph"
      ],
      "metadata": {
        "colab": {
          "base_uri": "https://localhost:8080/",
          "height": 266
        },
        "id": "pNnNTRuXN1hi",
        "outputId": "f40a6ba5-0595-4094-8220-89654e6ce7ec"
      },
      "execution_count": null,
      "outputs": [
        {
          "output_type": "execute_result",
          "data": {
            "text/plain": [
              "<langgraph.graph.state.CompiledStateGraph object at 0x7f0789685f50>"
            ],
            "image/png": "[encoded data removed]"
          },
          "metadata": {},
          "execution_count": 18
        }
      ]
    },
    {
      "cell_type": "code",
      "source": [
        "from IPython.display import Image, display\n",
        "\n",
        "try:\n",
        "    display(Image(graph.get_graph().draw_mermaid_png()))\n",
        "except Exception:\n",
        "    # This requires some extra dependencies and is optional\n",
        "    pass"
      ],
      "metadata": {
        "colab": {
          "base_uri": "https://localhost:8080/",
          "height": 266
        },
        "id": "xCtD9mdjN3zH",
        "outputId": "cd9709eb-f6fa-4dfa-d2c3-7d1719880b3b"
      },
      "execution_count": null,
      "outputs": [
        {
          "output_type": "display_data",
          "data": {
            "image/png": "[encoded data removed]",
            "text/plain": [
              "<IPython.core.display.Image object>"
            ]
          },
          "metadata": {}
        }
      ]
    },
    {
      "cell_type": "code",
      "source": [
        "while True:\n",
        "    try:\n",
        "        user_input = input(\"User: \")\n",
        "        if user_input.lower() in [\"quit\", \"exit\", \"q\"]:\n",
        "            print(\"Goodbye!\")\n",
        "            break\n",
        "\n",
        "        stream_graph_updates(user_input)\n",
        "    except:\n",
        "        # fallback if input() is not available\n",
        "        user_input = \"What do you know about LangGraph?\"\n",
        "        print(\"User: \" + user_input)\n",
        "        stream_graph_updates(user_input)\n",
        "        break"
      ],
      "metadata": {
        "colab": {
          "base_uri": "https://localhost:8080/"
        },
        "id": "YpErUTT3N8A7",
        "outputId": "39b3b239-0d60-4316-af63-986bc5d9a55e"
      },
      "execution_count": null,
      "outputs": [
        {
          "output_type": "stream",
          "name": "stdout",
          "text": [
            "User: Who are the investors in stargate\n",
            "Assistant: [{'text': \"Let me search for information about Stargate's investors.\", 'type': 'text'}, {'id': 'toolu_01WJ7GGw8kdsro3WJ8MWbnPQ', 'input': {'query': 'Stargate Protocol investors funding rounds'}, 'name': 'tavily_search_results_json', 'type': 'tool_use'}]\n",
            "Assistant: [{\"url\": \"https://messari.io/project/stargate-finance/fundraising\", \"content\": \"Funding Rounds Investors M&A Funds. Watchlists. Screener. Assets M&A Funds Funding Rounds Investors Explore ... Finance is a cross-chain bridge solution built on LayerZero.The STG token is used to reward liquidity providers for funding Stargate Protocol operations, and to lock and receive the Stargate Protocol governance token (veSTG). Totals\"}, {\"url\": \"https://tracxn.com/d/companies/stargate/__GPlam86tqPbRYnNxUmkYuvkNy4WkpBeJSFpocPX0ka4\", \"content\": \"Stargate - Company Profile - Tracxn Stargate Stargate company profile Stargate - About the company What does Stargate do? Stargate's funding and investors How much funding has Stargate raised till date? Stargate has raised funding over 1 round. List of recent funding rounds of Stargate Who are Stargate's investors? View details of Stargate funding rounds and investors Who are the competitors of Stargate? Here is the list of Top 10 competitors of Stargate, ranked by Tracxn score : Stargate Is Stargate a funded company? Stargate is a funded company, its first funding round was on Mar 18, 2022. When was the latest funding round of Stargate? Stargate's latest funding round was on Mar 18, 2022. View complete company profile of Stargate\"}]\n",
            "Assistant: [{'text': 'Let me search for more specific details about the investors.', 'type': 'text'}, {'id': 'toolu_01X2754DQEtqz2rdekbAYB5m', 'input': {'query': 'who invested in Stargate Protocol LayerZero initial funding'}, 'name': 'tavily_search_results_json', 'type': 'tool_use'}]\n",
            "Assistant: [{\"url\": \"https://pitchbook.com/profiles/company/481395-34\", \"content\": \"Trustless omnichain communication protocol platforms: Pending: 14-Mar-2022: LayerZero Signals. ... The current revenue for LayerZero is . How much funding has LayerZero raised over time? ... and Gydra Capital are 5 of 93 investors who have invested in LayerZero. Data Transparency. Meet our data hygiene team. Discover how our experts ensure you\"}, {\"url\": \"https://finance.yahoo.com/news/blockchain-interoperability-firm-layerzero-labs-141658961.html\", \"content\": \"LayerZero Labs, which builds technology to help blockchain protocols communicate with one another, announced on Tuesday that it had raised $120 million in a funding round led by a16z crypto, a\"}]\n",
            "Assistant: Based on my research, Stargate Protocol is built on LayerZero, and while I can confirm that it received funding, the specific details about all investors are not clearly public in my search results. What we do know is:\n",
            "\n",
            "1. Stargate had at least one funding round, with the first round occurring on March 18, 2022.\n",
            "\n",
            "2. Since Stargate is built on LayerZero, it's worth noting that LayerZero Labs (the underlying technology) raised $120 million in a funding round led by a16z crypto (Andreessen Horowitz's crypto arm).\n",
            "\n",
            "However, I cannot provide a complete list of Stargate's direct investors as this information isn't clearly available in my search results. If you're interested in specific investment details, you might want to check official announcements from Stargate Finance or their official documentation.\n",
            "User: tell me about stargate as announced in january, 2025\n",
            "Assistant: [{'text': \"I'll search for recent news about Stargate announcements from January 2025.\", 'type': 'text'}, {'id': 'toolu_01XD4QZaqk6d1V7kGC2CTPYt', 'input': {'query': 'stargate announcement january 2025'}, 'name': 'tavily_search_results_json', 'type': 'tool_use'}]\n",
            "Assistant: [{\"url\": \"https://openai.com/index/announcing-the-stargate-project/\", \"content\": \"January 21, 2025 Announcing The Stargate Project The Stargate Project is a new company which intends to invest $500 billion over the next four years building new AI infrastructure for OpenAI in the United States.\"}, {\"url\": \"https://www.aljazeera.com/news/2025/1/22/trump-announces-500bn-stargate-venture-to-build-up-ai-infrastucture\", \"content\": \"Trump announces $500bn \\u2018Stargate\\u2019 venture to build up AI infrastructure | Technology News | Al Jazeera Trump announces $500bn \\u2018Stargate\\u2019 venture to build up AI infrastructure US President Donald Trump, Softbank CEO Masayoshi Son, Oracle chief technology officer Larry Ellison and OpenAI CEO Sam Altman at the White House in Washington, DC, the United States, on January 21, 2025 [Julia Demaree Nikhinson/AP] United States President Donald Trump has announced a $500bn joint venture with Texas-based tech firm Oracle, Japan\\u2019s SoftBank and ChatGPT-maker OpenAI to advance artificial intelligence infrastructure. Trump made the announcement at a White House event on Tuesday that was joined by Softbank CEO Masayoshi Son, OpenAI CEO Sam Altman, and Oracle Chief Technology Officer Larry Ellison.\"}]\n",
            "Assistant: Based on the search results, I can tell you about a major announcement called \"The Stargate Project\" that was made on January 21, 2025:\n",
            "\n",
            "Key points about the Stargate Project:\n",
            "1. It's a $500 billion joint venture involving multiple major tech players:\n",
            "   - OpenAI\n",
            "   - Oracle\n",
            "   - SoftBank\n",
            "   - The US government\n",
            "\n",
            "2. The project aims to build new AI infrastructure in the United States.\n",
            "\n",
            "3. The announcement was made at a White House event attended by several key figures:\n",
            "   - US President Donald Trump\n",
            "   - OpenAI CEO Sam Altman\n",
            "   - SoftBank CEO Masayoshi Son\n",
            "   - Oracle CTO Larry Ellison\n",
            "\n",
            "4. The investment plan spans four years and is focused on advancing artificial intelligence infrastructure in the United States.\n",
            "\n",
            "This appears to be a significant public-private partnership representing one of the largest investments in AI infrastructure to date. The project brings together major players in the tech industry along with government support to advance AI capabilities in the United States.\n",
            "User: q\n",
            "Goodbye!\n"
          ]
        }
      ]
    },
    {
      "cell_type": "markdown",
      "source": [
        "Could do later: Replace the builtin functions for our handwritten ones per the [tutorial instructions](https://langchain-ai.github.io/langgraph/tutorials/introduction/) at the end of part 2."
      ],
      "metadata": {
        "id": "GpMenR1SQ3Y2"
      }
    }
  ]
}