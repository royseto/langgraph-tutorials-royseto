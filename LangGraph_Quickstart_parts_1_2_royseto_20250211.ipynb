{
  "nbformat": 4,
  "nbformat_minor": 0,
  "metadata": {
    "colab": {
      "provenance": [],
      "authorship_tag": "ABX9TyM6Euc7MJXvFgHlzLWdGHiW",
      "include_colab_link": true
    },
    "kernelspec": {
      "name": "python3",
      "display_name": "Python 3"
    },
    "language_info": {
      "name": "python"
    }
  },
  "cells": [
    {
      "cell_type": "markdown",
      "metadata": {
        "id": "view-in-github",
        "colab_type": "text"
      },
      "source": [
        "<a href=\"https://colab.research.google.com/github/royseto/langgraph-tutorials-royseto/blob/main/LangGraph_Quickstart_parts_1_2_royseto_20250211.ipynb\" target=\"_parent\"><img src=\"https://colab.research.google.com/assets/colab-badge.svg\" alt=\"Open In Colab\"/></a>"
      ]
    },
    {
      "cell_type": "markdown",
      "source": [
        "This colab notebook has Roy's work with the LangGraph Quickstart at https://langchain-ai.github.io/langgraph/tutorials/introduction/"
      ],
      "metadata": {
        "id": "hDKHfZSW6FTd"
      }
    },
    {
      "cell_type": "markdown",
      "source": [
        "# Setup"
      ],
      "metadata": {
        "id": "0FCJDmbMFBwV"
      }
    },
    {
      "cell_type": "code",
      "source": [
        "%%capture --no-stderr\n",
        "%pip install -U langgraph langsmith langchain_anthropic"
      ],
      "metadata": {
        "id": "P2qAB2YR6NTd"
      },
      "execution_count": 1,
      "outputs": []
    },
    {
      "cell_type": "code",
      "source": [
        "\"\"\"\n",
        "The LangGraph Quickstart gets API keys interactively using `getpass`.\n",
        "On colab, get them from colab secrets instead. Commenting this out.\n",
        "\n",
        "import getpass\n",
        "import os\n",
        "\n",
        "\n",
        "def _set_env(var: str):\n",
        "    if not os.environ.get(var):\n",
        "        os.environ[var] = getpass.getpass(f\"{var}: \")\n",
        "\n",
        "\n",
        "_set_env(\"ANTHROPIC_API_KEY\")\n",
        "\"\"\""
      ],
      "metadata": {
        "colab": {
          "base_uri": "https://localhost:8080/",
          "height": 71
        },
        "id": "eYZZTMdo7eav",
        "outputId": "c761d30e-32ad-4079-f089-a289f6381ded"
      },
      "execution_count": 2,
      "outputs": [
        {
          "output_type": "execute_result",
          "data": {
            "text/plain": [
              "'\\nThe LangGraph Quickstart gets API keys interactively using `getpass`.\\nOn colab, get them from colab secrets instead. Commenting this out.\\n\\nimport getpass\\nimport os\\n\\n\\ndef _set_env(var: str):\\n    if not os.environ.get(var):\\n        os.environ[var] = getpass.getpass(f\"{var}: \")\\n\\n\\n_set_env(\"ANTHROPIC_API_KEY\")\\n'"
            ],
            "application/vnd.google.colaboratory.intrinsic+json": {
              "type": "string"
            }
          },
          "metadata": {},
          "execution_count": 2
        }
      ]
    },
    {
      "cell_type": "code",
      "source": [
        "import os\n",
        "from google.colab import userdata\n",
        "\n",
        "os.environ[\"ANTHROPIC_API_KEY\"] = userdata.get('ANTHROPIC_API_KEY')\n",
        "os.environ[\"LANGSMITH_API_KEY\"] = userdata.get('LANGSMITH_API_KEY')\n",
        "\n",
        "os.environ[\"LANGCHAIN_TRACING_V2\"] = \"true\"\n",
        "os.environ[\"LANGSMITH_PROJECT\"] = \"langgraph-quickstart\""
      ],
      "metadata": {
        "id": "OXJa8yCw66ts"
      },
      "execution_count": 3,
      "outputs": []
    },
    {
      "cell_type": "markdown",
      "source": [
        "# Part 1: Build a Basic Chatbot"
      ],
      "metadata": {
        "id": "5g0w6dnZFNXz"
      }
    },
    {
      "cell_type": "code",
      "source": [
        "from typing import Annotated\n",
        "\n",
        "from typing_extensions import TypedDict\n",
        "\n",
        "from langgraph.graph import StateGraph, START, END\n",
        "from langgraph.graph.message import add_messages\n",
        "\n",
        "\n",
        "class State(TypedDict):\n",
        "    # Messages have the type \"list\". The `add_messages` function\n",
        "    # in the annotation defines how this state key should be updated\n",
        "    # (in this case, it appends messages to the list, rather than overwriting them)\n",
        "    messages: Annotated[list, add_messages]\n",
        "\n",
        "\n",
        "graph_builder = StateGraph(State)"
      ],
      "metadata": {
        "id": "dZw6mkB79GhX"
      },
      "execution_count": 4,
      "outputs": []
    },
    {
      "cell_type": "code",
      "source": [
        "from langchain_anthropic import ChatAnthropic\n",
        "\n",
        "#llm = ChatAnthropic(model=\"claude-3-5-sonnet-20240620\")\n",
        "llm = ChatAnthropic(model=\"claude-3-5-sonnet-20241022\")\n",
        "\n",
        "def chatbot(state: State):\n",
        "    return {\"messages\": [llm.invoke(state[\"messages\"])]}\n",
        "\n",
        "\n",
        "# The first argument is the unique node name\n",
        "# The second argument is the function or object that will be called whenever\n",
        "# the node is used.\n",
        "graph_builder.add_node(\"chatbot\", chatbot)"
      ],
      "metadata": {
        "colab": {
          "base_uri": "https://localhost:8080/"
        },
        "id": "Fa9n_n379hXq",
        "outputId": "f5cdde30-9ab6-4fe1-e850-0e3b0375018a"
      },
      "execution_count": 5,
      "outputs": [
        {
          "output_type": "execute_result",
          "data": {
            "text/plain": [
              "<langgraph.graph.state.StateGraph at 0x7d1fbfdeba90>"
            ]
          },
          "metadata": {},
          "execution_count": 5
        }
      ]
    },
    {
      "cell_type": "code",
      "source": [
        "graph_builder.add_edge(START, \"chatbot\")"
      ],
      "metadata": {
        "colab": {
          "base_uri": "https://localhost:8080/"
        },
        "id": "HJoE25m3-9W3",
        "outputId": "399aed36-7adb-4b65-9107-01f6b69fc5a7"
      },
      "execution_count": 6,
      "outputs": [
        {
          "output_type": "execute_result",
          "data": {
            "text/plain": [
              "<langgraph.graph.state.StateGraph at 0x7d1fbfdeba90>"
            ]
          },
          "metadata": {},
          "execution_count": 6
        }
      ]
    },
    {
      "cell_type": "code",
      "source": [
        "graph_builder.add_edge(\"chatbot\", END)"
      ],
      "metadata": {
        "colab": {
          "base_uri": "https://localhost:8080/"
        },
        "id": "Sh11_UaF_kIZ",
        "outputId": "09dbf810-b7eb-4fda-d553-11527b5aea46"
      },
      "execution_count": 7,
      "outputs": [
        {
          "output_type": "execute_result",
          "data": {
            "text/plain": [
              "<langgraph.graph.state.StateGraph at 0x7d1fbfdeba90>"
            ]
          },
          "metadata": {},
          "execution_count": 7
        }
      ]
    },
    {
      "cell_type": "code",
      "source": [
        "graph = graph_builder.compile()"
      ],
      "metadata": {
        "id": "2i0sgD9j_uD0"
      },
      "execution_count": 8,
      "outputs": []
    },
    {
      "cell_type": "code",
      "source": [
        "graph"
      ],
      "metadata": {
        "colab": {
          "base_uri": "https://localhost:8080/",
          "height": 251
        },
        "id": "Ysqi-yU2_xrr",
        "outputId": "5299a255-a774-413d-a036-f4fdaff2f40b"
      },
      "execution_count": 9,
      "outputs": [
        {
          "output_type": "execute_result",
          "data": {
            "text/plain": [
              "<langgraph.graph.state.CompiledStateGraph object at 0x7d1fa6f7fcd0>"
            ],
            "image/png": "[encoded data removed]"
          },
          "metadata": {},
          "execution_count": 9
        }
      ]
    },
    {
      "cell_type": "code",
      "source": [
        "from IPython.display import Image, display\n",
        "\n",
        "try:\n",
        "    display(Image(graph.get_graph().draw_mermaid_png()))\n",
        "except Exception:\n",
        "    # This requires some extra dependencies and is optional\n",
        "    pass"
      ],
      "metadata": {
        "colab": {
          "base_uri": "https://localhost:8080/",
          "height": 251
        },
        "id": "Jp1VlqRf_1kl",
        "outputId": "ab20c4e9-84c9-43c6-e88b-797cd15a4ece"
      },
      "execution_count": 10,
      "outputs": [
        {
          "output_type": "display_data",
          "data": {
            "image/png": "[encoded data removed]",
            "text/plain": [
              "<IPython.core.display.Image object>"
            ]
          },
          "metadata": {}
        }
      ]
    },
    {
      "cell_type": "code",
      "source": [
        "def stream_graph_updates(user_input: str):\n",
        "    for event in graph.stream({\"messages\": [{\"role\": \"user\", \"content\": user_input}]}):\n",
        "        for value in event.values():\n",
        "            print(\"Assistant:\", value[\"messages\"][-1].content)\n",
        "\n",
        "\n",
        "while True:\n",
        "    try:\n",
        "        user_input = input(\"User: \")\n",
        "        if user_input.lower() in [\"quit\", \"exit\", \"q\"]:\n",
        "            print(\"Goodbye!\")\n",
        "            break\n",
        "\n",
        "        stream_graph_updates(user_input)\n",
        "    except:\n",
        "        # fallback if input() is not available\n",
        "        user_input = \"What do you know about LangGraph?\"\n",
        "        print(\"User: \" + user_input)\n",
        "        stream_graph_updates(user_input)\n",
        "        break"
      ],
      "metadata": {
        "colab": {
          "base_uri": "https://localhost:8080/"
        },
        "id": "OxgNrhooAWDp",
        "outputId": "2d108987-fd19-4219-e257-b2e947b26955"
      },
      "execution_count": 11,
      "outputs": [
        {
          "output_type": "stream",
          "name": "stdout",
          "text": [
            "User: Tell me about egrets\n",
            "Assistant: Egrets are large wading birds belonging to the heron family (Ardeidae). Here are some key facts about egrets:\n",
            "\n",
            "Physical characteristics:\n",
            "- Usually white plumage\n",
            "- Long legs and necks\n",
            "- Sharp, pointed beaks\n",
            "- Graceful appearance\n",
            "- Many species have decorative plumes during breeding season\n",
            "\n",
            "Common species include:\n",
            "1. Great Egret\n",
            "2. Snowy Egret\n",
            "3. Cattle Egret\n",
            "4. Little Egret\n",
            "\n",
            "Habitat:\n",
            "- Wetlands\n",
            "- Marshes\n",
            "- Swamps\n",
            "- Coastal areas\n",
            "- Rivers and lakes\n",
            "\n",
            "Behavior:\n",
            "- Wade in shallow water to hunt\n",
            "- Feed on fish, amphibians, small reptiles, insects, and crustaceans\n",
            "- Often nest in colonies\n",
            "- Build platform nests in trees or shrubs\n",
            "- Many species are migratory\n",
            "\n",
            "Historical significance:\n",
            "- Their plumes were once highly valued in the fashion industry\n",
            "- This led to severe population decline in the late 1800s\n",
            "- Conservation efforts helped populations recover\n",
            "- They are now protected in many countries\n",
            "\n",
            "Egrets play important roles in their ecosystems and are often considered indicators of environmental health.\n",
            "User: q\n",
            "Goodbye!\n"
          ]
        }
      ]
    },
    {
      "cell_type": "markdown",
      "source": [
        "# Part 2: 🛠️ Enhancing the Chatbot with Tools"
      ],
      "metadata": {
        "id": "hRaHgKPlEurt"
      }
    },
    {
      "cell_type": "markdown",
      "source": [
        "For Tavily hello world notebook, see https://colab.research.google.com/drive/1P16Y23P-1uSGLkQI50y0IUc3FdYgBGTW\n",
        "\n",
        "\"Tavily Search API is a search engine optimized for LLMs, aimed at efficient, quick and persistent search results.\" - https://docs.tavily.com/docs/welcome"
      ],
      "metadata": {
        "id": "cBlg-jGsFvpT"
      }
    },
    {
      "cell_type": "code",
      "source": [
        "%%capture --no-stderr\n",
        "%pip install -U tavily-python langchain_community"
      ],
      "metadata": {
        "id": "Z377trWoF0Sd"
      },
      "execution_count": 12,
      "outputs": []
    },
    {
      "cell_type": "code",
      "source": [
        "import os\n",
        "from google.colab import userdata\n",
        "os.environ[\"TAVILY_API_KEY\"] = userdata.get('TAVILY_API_KEY')"
      ],
      "metadata": {
        "id": "doBFCWbqGg-z"
      },
      "execution_count": 13,
      "outputs": []
    },
    {
      "cell_type": "code",
      "source": [
        "from langchain_community.tools.tavily_search import TavilySearchResults\n",
        "\n",
        "tool = TavilySearchResults(max_results=2)\n",
        "tools = [tool]\n",
        "tool.invoke(\"What's a 'node' in LangGraph?\")"
      ],
      "metadata": {
        "colab": {
          "base_uri": "https://localhost:8080/"
        },
        "id": "ce8DcjKzGyYq",
        "outputId": "53485a34-c352-4244-fa4c-d66e9c2742e0"
      },
      "execution_count": 14,
      "outputs": [
        {
          "output_type": "execute_result",
          "data": {
            "text/plain": [
              "[{'url': 'https://medium.com/@kbdhunga/beginners-guide-to-langgraph-understanding-state-nodes-and-edges-part-1-897e6114fa48',\n",
              "  'content': \"Beginner’s Guide to LangGraph: Understanding State, Nodes, and Edges — Part 1 | by Kamal Dhungana | Medium Beginner’s Guide to LangGraph: Understanding State, Nodes, and Edges — Part 1 LangGraph — State, Node and Edge Explained Mainly, we will focus on various components of LangGraph: State, Node, and Edges, and how to build a complete graph from these components. Once we understand these components, we will be able to build relatively complex LangGraph-based agents. Each node represents a specific function or operation that processes the current state. Nodes can perform computations, modify the state, or generate outputs based on the input they receive. Follow 1.2K Followers Data scientist with a passion for AI, Regularly blogging about LLM and OpenAI's innovations,Sharing insights for AI community growth Follow\"},\n",
              " {'url': 'https://blog.langchain.dev/langgraph/',\n",
              "  'content': 'TL;DR: LangGraph is module built on top of LangChain to better enable creation of cyclical graphs, often needed for agent runtimes. This state is updated by nodes in the graph, which return operations to attributes of this state (in the form of a key-value store). After adding nodes, you can then add edges to create the graph. An example of this may be in the basic agent runtime, where we always want the model to be called after we call a tool. graph.add_edge(\"tools\", \"model\") The state of this graph by default contains concepts that should be familiar to you if you\\'ve used LangChain agents: input, chat_history, intermediate_steps (and agent_outcome to represent the most recent agent outcome)'}]"
            ]
          },
          "metadata": {},
          "execution_count": 14
        }
      ]
    },
    {
      "cell_type": "code",
      "source": [
        "from typing import Annotated\n",
        "\n",
        "from langchain_anthropic import ChatAnthropic\n",
        "from typing_extensions import TypedDict\n",
        "\n",
        "from langgraph.graph import StateGraph, START, END\n",
        "from langgraph.graph.message import add_messages\n",
        "\n",
        "\n",
        "class State(TypedDict):\n",
        "    messages: Annotated[list, add_messages]\n",
        "\n",
        "\n",
        "graph_builder = StateGraph(State)\n",
        "\n",
        "\n",
        "#llm = ChatAnthropic(model=\"claude-3-5-sonnet-20240620\")\n",
        "llm = ChatAnthropic(model=\"claude-3-5-sonnet-20241022\")\n",
        "# Modification: tell the LLM which tools it can call\n",
        "llm_with_tools = llm.bind_tools(tools)\n",
        "\n",
        "\n",
        "def chatbot(state: State):\n",
        "    return {\"messages\": [llm_with_tools.invoke(state[\"messages\"])]}\n",
        "\n",
        "\n",
        "graph_builder.add_node(\"chatbot\", chatbot)"
      ],
      "metadata": {
        "colab": {
          "base_uri": "https://localhost:8080/"
        },
        "id": "7JlWz5q4HD3-",
        "outputId": "b77065db-2348-49b6-e125-1579a53ca59a"
      },
      "execution_count": 15,
      "outputs": [
        {
          "output_type": "execute_result",
          "data": {
            "text/plain": [
              "<langgraph.graph.state.StateGraph at 0x7d1f90a42010>"
            ]
          },
          "metadata": {},
          "execution_count": 15
        }
      ]
    },
    {
      "cell_type": "code",
      "source": [
        "import json\n",
        "\n",
        "from langchain_core.messages import ToolMessage\n",
        "\n",
        "\n",
        "class BasicToolNode:\n",
        "    \"\"\"A node that runs the tools requested in the last AIMessage.\"\"\"\n",
        "\n",
        "    def __init__(self, tools: list) -> None:\n",
        "        self.tools_by_name = {tool.name: tool for tool in tools}\n",
        "\n",
        "    def __call__(self, inputs: dict):\n",
        "        if messages := inputs.get(\"messages\", []):\n",
        "            message = messages[-1]\n",
        "        else:\n",
        "            raise ValueError(\"No message found in input\")\n",
        "        outputs = []\n",
        "        for tool_call in message.tool_calls:\n",
        "            tool_result = self.tools_by_name[tool_call[\"name\"]].invoke(\n",
        "                tool_call[\"args\"]\n",
        "            )\n",
        "            outputs.append(\n",
        "                ToolMessage(\n",
        "                    content=json.dumps(tool_result),\n",
        "                    name=tool_call[\"name\"],\n",
        "                    tool_call_id=tool_call[\"id\"],\n",
        "                )\n",
        "            )\n",
        "        return {\"messages\": outputs}\n",
        "\n",
        "\n",
        "tool_node = BasicToolNode(tools=[tool])\n",
        "graph_builder.add_node(\"tools\", tool_node)"
      ],
      "metadata": {
        "colab": {
          "base_uri": "https://localhost:8080/"
        },
        "id": "0j81rRhqHx9Z",
        "outputId": "30f1091a-f4e8-40f4-e52f-04e475759044"
      },
      "execution_count": 16,
      "outputs": [
        {
          "output_type": "execute_result",
          "data": {
            "text/plain": [
              "<langgraph.graph.state.StateGraph at 0x7d1f90a42010>"
            ]
          },
          "metadata": {},
          "execution_count": 16
        }
      ]
    },
    {
      "cell_type": "code",
      "source": [
        "def route_tools(\n",
        "    state: State,\n",
        "):\n",
        "    \"\"\"\n",
        "    Use in the conditional_edge to route to the ToolNode if the last message\n",
        "    has tool calls. Otherwise, route to the end.\n",
        "    \"\"\"\n",
        "    if isinstance(state, list):\n",
        "        ai_message = state[-1]\n",
        "    elif messages := state.get(\"messages\", []):\n",
        "        ai_message = messages[-1]\n",
        "    else:\n",
        "        raise ValueError(f\"No messages found in input state to tool_edge: {state}\")\n",
        "    if hasattr(ai_message, \"tool_calls\") and len(ai_message.tool_calls) > 0:\n",
        "        return \"tools\"\n",
        "    return END\n",
        "\n",
        "\n",
        "# The `tools_condition` function returns \"tools\" if the chatbot asks to use a tool, and \"END\" if\n",
        "# it is fine directly responding. This conditional routing defines the main agent loop.\n",
        "graph_builder.add_conditional_edges(\n",
        "    \"chatbot\",\n",
        "    route_tools,\n",
        "    # The following dictionary lets you tell the graph to interpret the condition's outputs as a specific node\n",
        "    # It defaults to the identity function, but if you\n",
        "    # want to use a node named something else apart from \"tools\",\n",
        "    # You can update the value of the dictionary to something else\n",
        "    # e.g., \"tools\": \"my_tools\"\n",
        "    {\"tools\": \"tools\", END: END},\n",
        ")\n",
        "# Any time a tool is called, we return to the chatbot to decide the next step\n",
        "graph_builder.add_edge(\"tools\", \"chatbot\")\n",
        "graph_builder.add_edge(START, \"chatbot\")\n",
        "graph = graph_builder.compile()"
      ],
      "metadata": {
        "id": "szMOo5onIZsU"
      },
      "execution_count": 17,
      "outputs": []
    },
    {
      "cell_type": "code",
      "source": [
        "graph"
      ],
      "metadata": {
        "colab": {
          "base_uri": "https://localhost:8080/",
          "height": 266
        },
        "id": "pNnNTRuXN1hi",
        "outputId": "85ea93de-7346-4cc0-abe0-78eb687ae47a"
      },
      "execution_count": 18,
      "outputs": [
        {
          "output_type": "execute_result",
          "data": {
            "text/plain": [
              "<langgraph.graph.state.CompiledStateGraph object at 0x7d1f90039190>"
            ],
            "image/png": "[encoded data removed]"
          },
          "metadata": {},
          "execution_count": 18
        }
      ]
    },
    {
      "cell_type": "code",
      "source": [
        "from IPython.display import Image, display\n",
        "\n",
        "try:\n",
        "    display(Image(graph.get_graph().draw_mermaid_png()))\n",
        "except Exception:\n",
        "    # This requires some extra dependencies and is optional\n",
        "    pass"
      ],
      "metadata": {
        "colab": {
          "base_uri": "https://localhost:8080/",
          "height": 266
        },
        "id": "xCtD9mdjN3zH",
        "outputId": "c1c20932-9e9e-4e7c-c287-1623aee4e947"
      },
      "execution_count": 19,
      "outputs": [
        {
          "output_type": "display_data",
          "data": {
            "image/png": "[encoded data removed]",
            "text/plain": [
              "<IPython.core.display.Image object>"
            ]
          },
          "metadata": {}
        }
      ]
    },
    {
      "cell_type": "code",
      "source": [
        "while True:\n",
        "    try:\n",
        "        user_input = input(\"User: \")\n",
        "        if user_input.lower() in [\"quit\", \"exit\", \"q\"]:\n",
        "            print(\"Goodbye!\")\n",
        "            break\n",
        "\n",
        "        stream_graph_updates(user_input)\n",
        "    except:\n",
        "        # fallback if input() is not available\n",
        "        user_input = \"What do you know about LangGraph?\"\n",
        "        print(\"User: \" + user_input)\n",
        "        stream_graph_updates(user_input)\n",
        "        break"
      ],
      "metadata": {
        "colab": {
          "base_uri": "https://localhost:8080/"
        },
        "id": "YpErUTT3N8A7",
        "outputId": "bf7049a2-4d7f-46c4-c9e2-50c0f450ed72"
      },
      "execution_count": 20,
      "outputs": [
        {
          "output_type": "stream",
          "name": "stdout",
          "text": [
            "User: Who are the investors in stargate\n",
            "Assistant: [{'text': 'Let me search for information about Stargate and its investors.', 'type': 'text'}, {'id': 'toolu_01Qq8u13piPUPpTwAfoeWNUX', 'input': {'query': 'Stargate Protocol investors funding rounds'}, 'name': 'tavily_search_results_json', 'type': 'tool_use'}]\n",
            "Assistant: [{\"url\": \"https://tracxn.com/d/companies/stargate/__GPlam86tqPbRYnNxUmkYuvkNy4WkpBeJSFpocPX0ka4\", \"content\": \"Stargate has 5 institutional investors including Wave Financial, Delphi Ventures and Ryze Labs. View details of Stargate funding rounds and\"}, {\"url\": \"https://www.crunchbase.com/organization/stargate-d882\", \"content\": \"Stargate has 3 investors including Banana Capital and Cynegetic Investment Management . When was the last funding round for Stargate ? Stargate closed its\"}]\n",
            "Assistant: [{'text': 'Let me search for more specific details.', 'type': 'text'}, {'id': 'toolu_0121xFzsK6V4YQ4qGK5rvEyN', 'input': {'query': 'Stargate Protocol Wave Financial Delphi Ventures investment details'}, 'name': 'tavily_search_results_json', 'type': 'tool_use'}]\n",
            "Assistant: [{\"url\": \"https://pitchbook.com/profiles/company/512324-11\", \"content\": \"Who are Stargate (Financial Services)'s investors? Alpha Protocol Ventures, Archer Capital (Denver), Blue7 (Dubai), Criterion VC, and Delphi Ventures are 5 of\"}, {\"url\": \"https://www.janushenderson.com/en-it/advisor/article/stargate-ai-further-reacceleration-of-the-ai-compute-wave/\", \"content\": \"Right now, financial details on the Stargate project remain limited beyond the US$100 billion initial investment and US$500 billion total\"}]\n",
            "Assistant: Based on the search results, here are the known investors in Stargate:\n",
            "\n",
            "1. Wave Financial\n",
            "2. Delphi Ventures\n",
            "3. Ryze Labs\n",
            "4. Banana Capital\n",
            "5. Cynegetic Investment Management\n",
            "6. Alpha Protocol Ventures\n",
            "7. Archer Capital (Denver)\n",
            "8. Blue7 (Dubai)\n",
            "9. Criterion VC\n",
            "\n",
            "It's worth noting that the exact investment amounts and dates are not clearly disclosed in public sources. Different sources show slightly different numbers of institutional investors, which could be due to different rounds of funding or varying reporting dates.\n",
            "User: tell me about stargate as announced in january, 2025\n",
            "Assistant: [{'text': 'Let me search for recent information about Stargate announcements from January 2024/2025.', 'type': 'text'}, {'id': 'toolu_01RL4YXTfqP4EnTbyugNknU2', 'input': {'query': 'Stargate new announcement January 2024 2025'}, 'name': 'tavily_search_results_json', 'type': 'tool_use'}]\n",
            "Assistant: [{\"url\": \"https://www.futuriom.com/articles/news/trump-unveils-stargate-with-openai-softbank-and-oracle/2025/01\", \"content\": \"On Tuesday, January 21, US President Donald Trump announced the Stargate Project, a new joint venture dedicated to building up to $500 billion in AI\"}, {\"url\": \"https://www.forbes.com/sites/bernardmarr/2025/01/23/what-does-trumps-500-billion-stargate-mean-for-the-world-of-ai/\", \"content\": \"What Does Trump\\u2019s \\u00a3500 Billion Stargate Mean For The World Of AI? What Does Trump\\u2019s \\u00a3500 Billion Stargate Mean For The World Of AI? Former President Trump has announced an unprecedented $500 billion AI infrastructure initiative ... One of the first announcements made by newly inaugurated US president Donald Trump is \\u201cThe Stargate Project\\u201d, a $500 billion investment in AI infrastructure. OpenAI put out a statement stating that $500 billion will be invested over five years in a new company named Stargate that will aim to \\u201csecure American leadership in AI, create hundreds of thousands of American jobs, and generate massive economic benefit for the entire world.\\u201d\"}]\n",
            "Assistant: Based on the search results, I can tell you about a significant announcement made about Stargate in January 2025:\n",
            "\n",
            "The Stargate Project was announced on January 21, 2025, by US President Donald Trump. Here are the key details:\n",
            "\n",
            "1. It's a massive $500 billion AI infrastructure initiative\n",
            "2. It's structured as a joint venture involving several major tech players, including:\n",
            "   - OpenAI\n",
            "   - SoftBank\n",
            "   - Oracle\n",
            "\n",
            "The main goals of the Stargate Project include:\n",
            "- Securing American leadership in AI\n",
            "- Creating hundreds of thousands of American jobs\n",
            "- Generating economic benefits globally\n",
            "\n",
            "The investment is planned to be distributed over a five-year period through a new company named Stargate.\n",
            "\n",
            "This appears to be one of the first major announcements made following Trump's inauguration in 2025, and represents one of the largest single investments in AI infrastructure to date.\n",
            "\n",
            "Let me know if you'd like to know more specific details about any aspect of this announcement!\n",
            "User: q\n",
            "Goodbye!\n"
          ]
        }
      ]
    },
    {
      "cell_type": "markdown",
      "source": [
        "Could do later: Replace the builtin functions for our handwritten ones per the [tutorial instructions](https://langchain-ai.github.io/langgraph/tutorials/introduction/) at the end of part 2."
      ],
      "metadata": {
        "id": "GpMenR1SQ3Y2"
      }
    }
  ]
}