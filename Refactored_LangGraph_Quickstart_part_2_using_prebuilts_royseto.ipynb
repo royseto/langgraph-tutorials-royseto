{
  "nbformat": 4,
  "nbformat_minor": 0,
  "metadata": {
    "colab": {
      "provenance": [],
      "include_colab_link": true
    },
    "kernelspec": {
      "name": "python3",
      "display_name": "Python 3"
    },
    "language_info": {
      "name": "python"
    }
  },
  "cells": [
    {
      "cell_type": "markdown",
      "metadata": {
        "id": "view-in-github",
        "colab_type": "text"
      },
      "source": [
        "<a href=\"https://colab.research.google.com/github/royseto/langgraph-tutorials-royseto/blob/main/Refactored_LangGraph_Quickstart_part_2_using_prebuilts_royseto.ipynb\" target=\"_parent\"><img src=\"https://colab.research.google.com/assets/colab-badge.svg\" alt=\"Open In Colab\"/></a>"
      ]
    },
    {
      "cell_type": "markdown",
      "source": [
        "This colab notebook has Roy's work with the LangGraph Quickstart at https://langchain-ai.github.io/langgraph/tutorials/introduction/\n",
        "\n",
        "It starts with part 2, and pulls forward the refactoring from part 3 to use prebuilt funtions and classes for tool use."
      ],
      "metadata": {
        "id": "hDKHfZSW6FTd"
      }
    },
    {
      "cell_type": "markdown",
      "source": [
        "# Setup"
      ],
      "metadata": {
        "id": "0FCJDmbMFBwV"
      }
    },
    {
      "cell_type": "code",
      "source": [
        "%%capture --no-stderr\n",
        "%pip install -U langgraph langsmith langchain_anthropic"
      ],
      "metadata": {
        "id": "P2qAB2YR6NTd"
      },
      "execution_count": 1,
      "outputs": []
    },
    {
      "cell_type": "code",
      "source": [
        "import os\n",
        "from google.colab import userdata\n",
        "\n",
        "os.environ[\"ANTHROPIC_API_KEY\"] = userdata.get('ANTHROPIC_API_KEY')\n",
        "os.environ[\"LANGSMITH_API_KEY\"] = userdata.get('LANGSMITH_API_KEY')\n",
        "\n",
        "os.environ[\"LANGCHAIN_TRACING_V2\"] = \"true\"\n",
        "os.environ[\"LANGSMITH_PROJECT\"] = \"langgraph-quickstart\""
      ],
      "metadata": {
        "id": "OXJa8yCw66ts"
      },
      "execution_count": 2,
      "outputs": []
    },
    {
      "cell_type": "markdown",
      "source": [
        "For Tavily hello world notebook, see https://colab.research.google.com/drive/1P16Y23P-1uSGLkQI50y0IUc3FdYgBGTW\n",
        "\n",
        "\"Tavily Search API is a search engine optimized for LLMs, aimed at efficient, quick and persistent search results.\" - https://docs.tavily.com/docs/welcome"
      ],
      "metadata": {
        "id": "cBlg-jGsFvpT"
      }
    },
    {
      "cell_type": "code",
      "source": [
        "%%capture --no-stderr\n",
        "%pip install -U tavily-python langchain_community"
      ],
      "metadata": {
        "id": "Z377trWoF0Sd"
      },
      "execution_count": 3,
      "outputs": []
    },
    {
      "cell_type": "code",
      "source": [
        "import os\n",
        "from google.colab import userdata\n",
        "os.environ[\"TAVILY_API_KEY\"] = userdata.get('TAVILY_API_KEY')"
      ],
      "metadata": {
        "id": "doBFCWbqGg-z"
      },
      "execution_count": 4,
      "outputs": []
    },
    {
      "cell_type": "code",
      "source": [
        "from langgraph.checkpoint.memory import MemorySaver\n",
        "\n",
        "memory = MemorySaver()"
      ],
      "metadata": {
        "id": "s3igkdaO4cCG"
      },
      "execution_count": 5,
      "outputs": []
    },
    {
      "cell_type": "code",
      "source": [
        "from typing import Annotated\n",
        "\n",
        "from langchain_anthropic import ChatAnthropic\n",
        "from langchain_community.tools.tavily_search import TavilySearchResults\n",
        "from langchain_core.messages import BaseMessage\n",
        "from typing_extensions import TypedDict\n",
        "\n",
        "from langgraph.graph import StateGraph, START, END\n",
        "from langgraph.graph.message import add_messages\n",
        "from langgraph.prebuilt import ToolNode, tools_condition\n",
        "\n",
        "\n",
        "class State(TypedDict):\n",
        "    messages: Annotated[list, add_messages]\n",
        "\n",
        "\n",
        "graph_builder = StateGraph(State)\n",
        "\n",
        "\n",
        "tool = TavilySearchResults(max_results=2)\n",
        "tools = [tool]\n",
        "llm = ChatAnthropic(model=\"claude-3-5-sonnet-20240620\")\n",
        "llm_with_tools = llm.bind_tools(tools)\n",
        "\n",
        "\n",
        "def chatbot(state: State):\n",
        "    return {\"messages\": [llm_with_tools.invoke(state[\"messages\"])]}\n",
        "\n",
        "\n",
        "graph_builder.add_node(\"chatbot\", chatbot)\n",
        "\n",
        "tool_node = ToolNode(tools=[tool])\n",
        "graph_builder.add_node(\"tools\", tool_node)\n",
        "\n",
        "graph_builder.add_conditional_edges(\n",
        "    \"chatbot\",\n",
        "    tools_condition,\n",
        ")\n",
        "# Any time a tool is called, we return to the chatbot to decide the next step\n",
        "graph_builder.add_edge(\"tools\", \"chatbot\")\n",
        "graph_builder.add_edge(START, \"chatbot\")"
      ],
      "metadata": {
        "colab": {
          "base_uri": "https://localhost:8080/"
        },
        "id": "MX4c1X4l4nnl",
        "outputId": "3867476f-3353-41a2-adda-04cd93d7cd77"
      },
      "execution_count": 6,
      "outputs": [
        {
          "output_type": "execute_result",
          "data": {
            "text/plain": [
              "<langgraph.graph.state.StateGraph at 0x7d4892fd3710>"
            ]
          },
          "metadata": {},
          "execution_count": 6
        }
      ]
    },
    {
      "cell_type": "code",
      "source": [
        "graph = graph_builder.compile(checkpointer=memory)"
      ],
      "metadata": {
        "id": "yn-DKN9x4udJ"
      },
      "execution_count": 7,
      "outputs": []
    },
    {
      "cell_type": "code",
      "source": [
        "graph"
      ],
      "metadata": {
        "colab": {
          "base_uri": "https://localhost:8080/",
          "height": 266
        },
        "id": "ta_X8jso5xBa",
        "outputId": "db1e8716-a245-4fba-9cae-87719bd123cb"
      },
      "execution_count": 8,
      "outputs": [
        {
          "output_type": "execute_result",
          "data": {
            "text/plain": [
              "<langgraph.graph.state.CompiledStateGraph object at 0x7d487ca356d0>"
            ],
            "image/png": "[encoded data removed]"
          },
          "metadata": {},
          "execution_count": 8
        }
      ]
    },
    {
      "cell_type": "code",
      "source": [
        "config = {\"configurable\": {\"thread_id\": \"1\"}}"
      ],
      "metadata": {
        "id": "zJRFeRDB5xsL"
      },
      "execution_count": 9,
      "outputs": []
    },
    {
      "cell_type": "code",
      "source": [
        "user_input = \"Hi there! My name is Will.\"\n",
        "\n",
        "# The config is the **second positional argument** to stream() or invoke()!\n",
        "events = graph.stream(\n",
        "    {\"messages\": [{\"role\": \"user\", \"content\": user_input}]},\n",
        "    config,\n",
        "    stream_mode=\"values\",\n",
        ")\n",
        "for event in events:\n",
        "    event[\"messages\"][-1].pretty_print()"
      ],
      "metadata": {
        "colab": {
          "base_uri": "https://localhost:8080/"
        },
        "id": "XCIpfGul6BbS",
        "outputId": "2f8f024a-86f8-4165-8927-055cb5997d42"
      },
      "execution_count": 10,
      "outputs": [
        {
          "output_type": "stream",
          "name": "stdout",
          "text": [
            "================================\u001b[1m Human Message \u001b[0m=================================\n",
            "\n",
            "Hi there! My name is Will.\n",
            "==================================\u001b[1m Ai Message \u001b[0m==================================\n",
            "\n",
            "Hello Will! It's nice to meet you. How can I assist you today? Is there anything specific you'd like to know or discuss?\n"
          ]
        }
      ]
    },
    {
      "cell_type": "code",
      "source": [
        "user_input = \"Remember my name?\"\n",
        "\n",
        "# The config is the **second positional argument** to stream() or invoke()!\n",
        "events = graph.stream(\n",
        "    {\"messages\": [{\"role\": \"user\", \"content\": user_input}]},\n",
        "    config,\n",
        "    stream_mode=\"values\",\n",
        ")\n",
        "for event in events:\n",
        "    event[\"messages\"][-1].pretty_print()"
      ],
      "metadata": {
        "colab": {
          "base_uri": "https://localhost:8080/"
        },
        "id": "Gr5hV1bo6HLl",
        "outputId": "034458dc-304c-4d12-99ea-6df5a8970c68"
      },
      "execution_count": 11,
      "outputs": [
        {
          "output_type": "stream",
          "name": "stdout",
          "text": [
            "================================\u001b[1m Human Message \u001b[0m=================================\n",
            "\n",
            "Remember my name?\n",
            "==================================\u001b[1m Ai Message \u001b[0m==================================\n",
            "\n",
            "Of course, I remember your name, Will. Is there anything in particular you'd like to talk about or any questions you have? I'm here to help with a wide range of topics, so feel free to ask about anything you're curious about.\n"
          ]
        }
      ]
    },
    {
      "cell_type": "code",
      "source": [
        "snapshot = graph.get_state(config)\n",
        "snapshot"
      ],
      "metadata": {
        "colab": {
          "base_uri": "https://localhost:8080/"
        },
        "id": "VoYSUuec6PvE",
        "outputId": "4dd961f2-003c-4a31-9be9-a325c3dc0cdb"
      },
      "execution_count": 12,
      "outputs": [
        {
          "output_type": "execute_result",
          "data": {
            "text/plain": [
              "StateSnapshot(values={'messages': [HumanMessage(content='Hi there! My name is Will.', additional_kwargs={}, response_metadata={}, id='c3497e2c-63ab-446e-892c-36134bb514fc'), AIMessage(content=\"Hello Will! It's nice to meet you. How can I assist you today? Is there anything specific you'd like to know or discuss?\", additional_kwargs={}, response_metadata={'id': 'msg_01NP4JVC7E1rtCBG7LepEutL', 'model': 'claude-3-5-sonnet-20240620', 'stop_reason': 'end_turn', 'stop_sequence': None, 'usage': {'cache_creation_input_tokens': 0, 'cache_read_input_tokens': 0, 'input_tokens': 405, 'output_tokens': 32}}, id='run-82314213-04f7-481b-a291-c4618aae797c-0', usage_metadata={'input_tokens': 405, 'output_tokens': 32, 'total_tokens': 437, 'input_token_details': {'cache_creation': 0, 'cache_read': 0}}), HumanMessage(content='Remember my name?', additional_kwargs={}, response_metadata={}, id='d19a8f3d-a80d-4611-9dd6-be258d5199e3'), AIMessage(content=\"Of course, I remember your name, Will. Is there anything in particular you'd like to talk about or any questions you have? I'm here to help with a wide range of topics, so feel free to ask about anything you're curious about.\", additional_kwargs={}, response_metadata={'id': 'msg_01T4hCQ4WkywbYopLkdFxETP', 'model': 'claude-3-5-sonnet-20240620', 'stop_reason': 'end_turn', 'stop_sequence': None, 'usage': {'cache_creation_input_tokens': 0, 'cache_read_input_tokens': 0, 'input_tokens': 444, 'output_tokens': 54}}, id='run-1ff48d84-7df9-41bb-b8ec-4ec5613099ab-0', usage_metadata={'input_tokens': 444, 'output_tokens': 54, 'total_tokens': 498, 'input_token_details': {'cache_creation': 0, 'cache_read': 0}})]}, next=(), config={'configurable': {'thread_id': '1', 'checkpoint_ns': '', 'checkpoint_id': '1efe8c24-9943-6785-8004-9626f44571fd'}}, metadata={'source': 'loop', 'writes': {'chatbot': {'messages': [AIMessage(content=\"Of course, I remember your name, Will. Is there anything in particular you'd like to talk about or any questions you have? I'm here to help with a wide range of topics, so feel free to ask about anything you're curious about.\", additional_kwargs={}, response_metadata={'id': 'msg_01T4hCQ4WkywbYopLkdFxETP', 'model': 'claude-3-5-sonnet-20240620', 'stop_reason': 'end_turn', 'stop_sequence': None, 'usage': {'cache_creation_input_tokens': 0, 'cache_read_input_tokens': 0, 'input_tokens': 444, 'output_tokens': 54}}, id='run-1ff48d84-7df9-41bb-b8ec-4ec5613099ab-0', usage_metadata={'input_tokens': 444, 'output_tokens': 54, 'total_tokens': 498, 'input_token_details': {'cache_creation': 0, 'cache_read': 0}})]}}, 'thread_id': '1', 'step': 4, 'parents': {}}, created_at='2025-02-11T21:51:02.752419+00:00', parent_config={'configurable': {'thread_id': '1', 'checkpoint_ns': '', 'checkpoint_id': '1efe8c24-89c9-6ff4-8003-9a3ddb1685ad'}}, tasks=())"
            ]
          },
          "metadata": {},
          "execution_count": 12
        }
      ]
    },
    {
      "cell_type": "code",
      "source": [
        "user_input = \"tell me about stargate as announced in january, 2025\"\n",
        "\n",
        "# The config is the **second positional argument** to stream() or invoke()!\n",
        "events = graph.stream(\n",
        "    {\"messages\": [{\"role\": \"user\", \"content\": user_input}]},\n",
        "    config,\n",
        "    stream_mode=\"values\",\n",
        ")\n",
        "for event in events:\n",
        "    event[\"messages\"][-1].pretty_print()"
      ],
      "metadata": {
        "colab": {
          "base_uri": "https://localhost:8080/"
        },
        "id": "ALJyi_9Z6YbU",
        "outputId": "9e7082e7-35b0-4de1-d694-9236475a0bb8"
      },
      "execution_count": 13,
      "outputs": [
        {
          "output_type": "stream",
          "name": "stdout",
          "text": [
            "================================\u001b[1m Human Message \u001b[0m=================================\n",
            "\n",
            "tell me about stargate as announced in january, 2025\n",
            "==================================\u001b[1m Ai Message \u001b[0m==================================\n",
            "\n",
            "[{'text': \"I apologize, but I need to correct a misunderstanding in your request. As an AI language model, I don't have real-time information about future events. We are currently in 2023, and I don't have information about announcements that might happen in January 2025. \\n\\nHowever, I can search for the most recent and relevant information about Stargate for you. Let me do that now.\", 'type': 'text'}, {'id': 'toolu_01KmC2Nv3Nys7m1QdbKVeE8y', 'input': {'query': 'Stargate recent announcements or developments'}, 'name': 'tavily_search_results_json', 'type': 'tool_use'}]\n",
            "Tool Calls:\n",
            "  tavily_search_results_json (toolu_01KmC2Nv3Nys7m1QdbKVeE8y)\n",
            " Call ID: toolu_01KmC2Nv3Nys7m1QdbKVeE8y\n",
            "  Args:\n",
            "    query: Stargate recent announcements or developments\n",
            "=================================\u001b[1m Tool Message \u001b[0m=================================\n",
            "Name: tavily_search_results_json\n",
            "\n",
            "[{\"url\": \"https://www.youtube.com/watch?v=2r1yJljBpEg\", \"content\": \"Stargate is making a comeback!! Let us know in the comments what you think, is this finally some good news for us fans of Stargate,\"}, {\"url\": \"https://www.justsecurity.org/106688/what-happened-trumps-announcement-stargate-ai-project/\", \"content\": \"The announcement followed President Trump’s order, issued hours after his inauguration, rescinding President Joe Biden’s Oct. 30, 2023, Executive Order on the “Safe, Secure, and Trustworthy Development and Use of Artificial Intelligence.” That move fulfilled a promise of the GOP platform adopted at the Republican National Convention in July. _IMAGE: US President Trump speaks in the Roosevelt Room flanked by Masayoshi Son (2L), Chairman and CEO of SoftBank Group Corp, Larry Ellison (2R), Executive Charmain Oracle and Sam Altman (R), CEO of Open AI at the White House on January 21, 2025, in Washington, DC.\"}]\n",
            "==================================\u001b[1m Ai Message \u001b[0m==================================\n",
            "\n",
            "Thank you for your patience, Will. I've searched for the most recent information about Stargate, and I found some interesting developments, although nothing specifically from January 2025. Here's what I can tell you:\n",
            "\n",
            "1. Stargate TV Series:\n",
            "There seems to be some excitement among fans about a potential comeback of the Stargate franchise. While I don't have specific details about a new series or movie, there are indications that something might be in the works, which has generated buzz among Stargate enthusiasts.\n",
            "\n",
            "2. Stargate AI Project:\n",
            "Interestingly, there's information about a project called \"Stargate AI\" that was mentioned in a political context. According to a report from Just Security:\n",
            "\n",
            "- On January 21, 2025, there was an announcement related to an AI project called Stargate.\n",
            "- This announcement was made by then-President Trump in the White House.\n",
            "- It involved figures from the tech industry, including Masayoshi Son (CEO of SoftBank Group), Larry Ellison (Executive Chairman of Oracle), and Sam Altman (CEO of OpenAI).\n",
            "- The announcement came after the rescinding of a previous executive order on AI development and use.\n",
            "\n",
            "It's important to note that this information is based on a report about potential future events, and as we are currently in 2023, these are projections or speculations rather than confirmed facts.\n",
            "\n",
            "Is there any specific aspect of Stargate – whether the TV series or this AI project – that you're particularly interested in, Will? I'd be happy to try to find more current and concrete information if you have a specific area of interest.\n"
          ]
        }
      ]
    },
    {
      "cell_type": "code",
      "source": [
        "user_input = \"tell me about stargate ai as announced on january 21, 2025\"\n",
        "\n",
        "# The config is the **second positional argument** to stream() or invoke()!\n",
        "events = graph.stream(\n",
        "    {\"messages\": [{\"role\": \"user\", \"content\": user_input}]},\n",
        "    config,\n",
        "    stream_mode=\"values\",\n",
        ")\n",
        "for event in events:\n",
        "    event[\"messages\"][-1].pretty_print()"
      ],
      "metadata": {
        "colab": {
          "base_uri": "https://localhost:8080/"
        },
        "id": "nLCJiSO46sZW",
        "outputId": "c7702371-2160-4aff-89d1-8016856b531b"
      },
      "execution_count": 14,
      "outputs": [
        {
          "output_type": "stream",
          "name": "stdout",
          "text": [
            "================================\u001b[1m Human Message \u001b[0m=================================\n",
            "\n",
            "tell me about stargate ai as announced on january 21, 2025\n",
            "==================================\u001b[1m Ai Message \u001b[0m==================================\n",
            "\n",
            "[{'text': \"I understand you're asking about Stargate AI as announced on January 21, 2025. Since this is a future event from our current perspective, I'll need to search for the most up-to-date information available about this announcement. Let me do that for you.\", 'type': 'text'}, {'id': 'toolu_01Wo57oVRT1vdqmaSPser2Nm', 'input': {'query': 'Stargate AI announcement January 21, 2025 Trump'}, 'name': 'tavily_search_results_json', 'type': 'tool_use'}]\n",
            "Tool Calls:\n",
            "  tavily_search_results_json (toolu_01Wo57oVRT1vdqmaSPser2Nm)\n",
            " Call ID: toolu_01Wo57oVRT1vdqmaSPser2Nm\n",
            "  Args:\n",
            "    query: Stargate AI announcement January 21, 2025 Trump\n",
            "=================================\u001b[1m Tool Message \u001b[0m=================================\n",
            "Name: tavily_search_results_json\n",
            "\n",
            "[{\"url\": \"https://www.jdsupra.com/legalnews/navigating-deepseek-s-challenge-5154969/\", \"content\": \"Announced by President Donald Trump on January 21, 2025, the Stargate Initiative is a monumental $500 billion public-private sector investment\"}, {\"url\": \"https://www.opb.org/article/2025/02/06/openai-looks-across-us-for-sites-to-build-its-trump-backed-stargate-ai-data-centers/\", \"content\": \"OpenAI visits Oregon in search of sites to build its Trump-backed Stargate AI data centers ... Tuesday, Jan. 21, 2025, in Washington. Julia\"}]\n",
            "==================================\u001b[1m Ai Message \u001b[0m==================================\n",
            "\n",
            "Thank you for waiting, Will. I've found some information about the Stargate AI announcement you're referring to. Here's what I can tell you based on the search results:\n",
            "\n",
            "1. Announcement Date and Person:\n",
            "The Stargate AI initiative was indeed announced by President Donald Trump on January 21, 2025, as you mentioned.\n",
            "\n",
            "2. Nature of the Initiative:\n",
            "The Stargate Initiative is described as a massive public-private sector investment, with a reported budget of $500 billion.\n",
            "\n",
            "3. Involvement of OpenAI:\n",
            "OpenAI, a prominent AI research and deployment company, appears to be significantly involved in this project. They were reported to be looking for sites across the United States to build data centers for the Stargate AI project.\n",
            "\n",
            "4. Data Center Locations:\n",
            "As of early February 2025, OpenAI was actively searching for locations to build these Stargate AI data centers. Oregon was mentioned as one of the states being considered.\n",
            "\n",
            "5. Scale and Importance:\n",
            "The initiative is described as \"monumental,\" suggesting it's a major undertaking in the field of artificial intelligence.\n",
            "\n",
            "It's important to note that as we are currently in 2023, this information is based on projections or plans for future events. The actual details may change by the time 2025 arrives.\n",
            "\n",
            "Would you like me to try to find any specific details about the Stargate AI initiative, such as its goals, the technologies involved, or the potential impact it's expected to have? Let me know if you have any particular aspects you're curious about, Will.\n"
          ]
        }
      ]
    },
    {
      "cell_type": "code",
      "source": [],
      "metadata": {
        "id": "Psu_W8hR_zPy"
      },
      "execution_count": null,
      "outputs": []
    }
  ]
}