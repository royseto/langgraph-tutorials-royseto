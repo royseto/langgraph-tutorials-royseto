{
  "nbformat": 4,
  "nbformat_minor": 0,
  "metadata": {
    "colab": {
      "provenance": [],
      "authorship_tag": "ABX9TyOQYIblKoAIZ/sRsz2AZlrr",
      "include_colab_link": true
    },
    "kernelspec": {
      "name": "python3",
      "display_name": "Python 3"
    },
    "language_info": {
      "name": "python"
    }
  },
  "cells": [
    {
      "cell_type": "markdown",
      "metadata": {
        "id": "view-in-github",
        "colab_type": "text"
      },
      "source": [
        "<a href=\"https://colab.research.google.com/github/royseto/langgraph-tutorials-royseto/blob/main/Tavily_Hello_World.ipynb\" target=\"_parent\"><img src=\"https://colab.research.google.com/assets/colab-badge.svg\" alt=\"Open In Colab\"/></a>"
      ]
    },
    {
      "cell_type": "markdown",
      "source": [
        "https://docs.tavily.com/docs/python-sdk/tavily-search/getting-started\n",
        "\n",
        "\"Tavily Search API is a search engine optimized for LLMs, aimed at efficient, quick and persistent search results.\" - https://docs.tavily.com/docs/welcome"
      ],
      "metadata": {
        "id": "1Nv72sRKEJ_w"
      }
    },
    {
      "cell_type": "code",
      "execution_count": null,
      "metadata": {
        "id": "uNfaeCGs_-6P"
      },
      "outputs": [],
      "source": [
        "%%capture --no-stderr\n",
        "%pip install tavily-python"
      ]
    },
    {
      "cell_type": "code",
      "source": [
        "from google.colab import userdata\n",
        "TAVILY_API_KEY = userdata.get('TAVILY_API_KEY')"
      ],
      "metadata": {
        "id": "KY2oxiyUARKX"
      },
      "execution_count": null,
      "outputs": []
    },
    {
      "cell_type": "code",
      "source": [
        "# Getting and printing the full Search API response\n",
        "\n",
        "from tavily import TavilyClient\n",
        "\n",
        "# Step 1. Instantiating your TavilyClient\n",
        "tavily_client = TavilyClient(api_key=TAVILY_API_KEY)\n",
        "\n",
        "# Step 2. Executing a simple search query\n",
        "response = tavily_client.search(\"Who is Leo Messi?\")\n",
        "\n",
        "# Step 3. That's it! You've done a Tavily Search!\n",
        "print(response)"
      ],
      "metadata": {
        "colab": {
          "base_uri": "https://localhost:8080/"
        },
        "id": "IRPpxKYRAoo3",
        "outputId": "9c9cbcfe-d491-46fc-e8e3-68a9221f43d5"
      },
      "execution_count": null,
      "outputs": [
        {
          "output_type": "stream",
          "name": "stdout",
          "text": [
            "{'query': 'Who is Leo Messi?', 'follow_up_questions': None, 'answer': None, 'images': [], 'results': [{'title': 'Career of Lionel Messi - Wikipedia', 'url': 'https://en.wikipedia.org/wiki/Career_of_Lionel_Messi', 'content': \"Lionel Messi is an Argentine professional footballer who plays as a forward for and captains both Major League Soccer club Inter Miami and the Argentina national team.His individual achievements include eight Ballon d'Or awards, the most for any footballer. Having won 45 team trophies, [note 1] he is the most decorated player in the history of professional football. [11]\", 'score': 0.8405867, 'raw_content': None}, {'title': 'Lionel Messi - Wikipedia', 'url': 'https://en.wikipedia.org/wiki/Lionel_Messi', 'content': 'He scored twice in the last group match, a 3–2 victory over Nigeria, his second goal coming from a free kick, as they finished first in their group.[423] Messi assisted a late goal in extra time to ensure a 1–0 win against Switzerland in the round of 16, and played in the 1–0 quarter-final win against Belgium as Argentina progressed to the semi-final of the World Cup for the first time since 1990.[424][425] Following a 0–0 draw in extra time, they eliminated the Netherlands 4–2 in a penalty shootout to reach the final, with Messi scoring his team\\'s first penalty.[426]\\nBilled as Messi versus Germany, the world\\'s best player against the best team, the final was a repeat of the 1990 final featuring Diego Maradona.[427] Within the first half-hour, Messi had started the play that led to a goal, but it was ruled offside. \"[582] Moreover, several pundits and footballing figures, including Maradona, questioned Messi\\'s leadership with Argentina at times, despite his playing ability.[583][584][585] Vickery states the perception of Messi among Argentines changed in 2019, with Messi making a conscious effort to become \"more one of the group, more Argentine\", with Vickery adding that following the World Cup victory in 2022 Messi would now be held in the same esteem by his compatriots as Maradona.[581]\\nComparisons with Cristiano Ronaldo\\nAmong his contemporary peers, Messi is most often compared and contrasted with Portuguese forward Cristiano Ronaldo, as part of an ongoing rivalry that has been compared to past sports rivalries like the Muhammad Ali–Joe Frazier rivalry in boxing, the Roger Federer–Rafael Nadal rivalry in tennis, and the Prost–Senna rivalry from Formula One motor racing.[586][587]\\nAlthough Messi has at times denied any rivalry,[588][589] they are widely believed to push one another in their aim to be the best player in the world.[160] Since 2008, Messi has won eight Ballons d\\'Or to Ronaldo\\'s five,[590] seven FIFA World\\'s Best Player awards to Ronaldo\\'s five, and six European Golden Shoes to Ronaldo\\'s four.[591] Pundits and fans regularly argue the individual merits of both players.[160][592] On 11 July, Messi provided his 20th assist of the league season for Arturo Vidal in a 1–0 away win over Real Valladolid, equalling Xavi\\'s record of 20 assists in a single La Liga season from 2008 to 2009;[281][282] with 22 goals, he also became only the second player ever, after Thierry Henry in the 2002–03 FA Premier League season with Arsenal (24 goals and 20 assists), to record at least 20 goals and 20 assists in a single league season in one of Europe\\'s top-five leagues.[282][283] Following his brace in a 5–0 away win against Alavés in the final match of the season on 20 May, Messi finished the season as both the top scorer and top assist provider in La Liga, with 25 goals and 21 assists respectively, which saw him win his record seventh Pichichi trophy, overtaking Zarra; however, Barcelona missed out on the league title to Real Madrid.[284] On 7 March, two weeks after scoring four goals in a league fixture against Valencia, he scored five times in a Champions League last 16-round match against Bayer Leverkusen, an unprecedented achievement in the history of the competition.[126][127] In addition to being the joint top assist provider with five assists, this feat made him top scorer with 14 goals, tying José Altafini\\'s record from the 1962–63 season, as well as becoming only the second player after Gerd Müller to be top scorer in four campaigns.[128][129] Two weeks later, on 20 March, Messi became the top goalscorer in Barcelona\\'s history at 24 years old, overtaking the 57-year record of César Rodríguez\\'s 232 goals with a hat-trick against Granada.[130]\\nDespite Messi\\'s individual form, Barcelona\\'s four-year cycle of success under Guardiola – one of the greatest eras in the club\\'s history – drew to an end.[131] He still managed to break two longstanding records in a span of seven days: a hat-trick on 16 March against Osasuna saw him overtake Paulino Alcántara\\'s 369 goals to become Barcelona\\'s top goalscorer in all competitions including friendlies, while another hat-trick against Real Madrid on 23 March made him the all-time top scorer in El Clásico, ahead of the 18 goals scored by former Real Madrid player Alfredo Di Stéfano.[160][162] Messi finished the campaign with his worst output in five seasons, though he still managed to score 41 goals in all competitions.[161][163] For the first time in five years, Barcelona ended the season without a major trophy; they were defeated in the Copa del Rey final by Real Madrid and lost the league in the last game to Atlético Madrid, causing Messi to be booed by sections of fans at the Camp Nou.[164]', 'score': 0.6396691, 'raw_content': None}, {'title': 'Lionel Messi | Biography, Competitions, Wins and Medals', 'url': 'https://olympics.com/en/athletes/lionel-messi', 'content': '“The Olympic gold in 2008 is the win that I value the most because it is a tournament that you may play only once in your life and involves many athletes from different disciplines” - Lionel Messi, Spanish Esquire\\nFeatured\\nLatest News\\nOlympic Results\\nAthlete Olympic Results Content\\nYou may like Lionel MESSI\\nBiography\\nBorn in Rosario, Argentina in 1987 Lionel Messi is widely held to be one of the greatest football players of his generation — and with good reason.\\n Graduating quickly through the club’s ranks thanks to his ever-growing skill set Messi made his first senior appearance for the club at the age of 17.\\n When he eventually left the team in 2021 for French club Paris Saint-Germain the Argentine completed his time in La Liga as its top goal-scorer, with an eye-watering 474 successful shots to his name.\\n He also came close to winning the FIFA World Cup in 2014 but Argentina fell to Germany 1-0 in the final.\\n', 'score': 0.6266047, 'raw_content': None}, {'title': \"Lionel Messi | Biography, Trophies, Records, Ballon d'Or, Inter Miami ...\", 'url': 'https://www.britannica.com/biography/Lionel-Messi', 'content': 'In early 2009 Messi capped off a spectacular 2008–09 season by helping FC Barcelona capture the club’s first “treble” (winning three major European club titles in one season): the team won the La Liga championship, the Copa del Rey (Spain’s major domestic cup), and the Champions League title. Messi’s play continued to rapidly improve over the years, and by 2008 he was one of the most dominant players in the world, finishing second to Manchester United’s Cristiano Ronaldo in the voting for the 2008 Ballon d’Or. At the 2014 World Cup, Messi put on a dazzling display, scoring four goals and almost single-handedly propelling an offense-deficient Argentina team through the group stage and into the knockout rounds, where Argentina then advanced to the World Cup final for the first time in 24 years. After Argentina was defeated in the Copa final—the team’s third consecutive finals loss in a major tournament—Messi said that he was quitting the national team, but his short-lived “retirement” lasted less than two months before he announced his return to the Argentine team. Messi helped Barcelona capture another treble during the 2014–15 season, leading the team with 43 goals scored over the course of the campaign, which resulted in his fifth world player of the year honour.', 'score': 0.54971373, 'raw_content': None}, {'title': 'Lionel Messi: Biography, Soccer Player, Inter Miami CF, Athlete', 'url': 'https://www.biography.com/athletes/lionel-messi', 'content': 'The following year, after Messi heavily criticized the referees in the wake of a 2-0 loss to Brazil in the Copa America semifinals, the Argentine captain was slapped with a three-game ban by the South American Football Confederation.\\n So, at the age of 13, when Messi was offered the chance to train at soccer powerhouse FC Barcelona’s youth academy, La Masia, and have his medical bills covered by the team, Messi’s family picked up and moved across the Atlantic to make a new home in Spain. Famous Athletes\\nDennis Rodman\\nBrett Favre\\nTiger Woods\\nJohn McEnroe\\nKurt Warner\\nSandy Koufax\\n10 Things You Might Not Know About Travis Kelce\\nPeyton Manning\\nJames Harden\\nKobe Bryant\\nStephen Curry\\nKyrie Irving\\nA Part of Hearst Digital Media\\n Their marriage, a civil ceremony dubbed by Argentina’s Clarín newspaper as the “wedding of the century,” was held at a luxury hotel in Rosario, with a number of fellow star soccer players and Colombian pop star Shakira on the 260-person guest list.\\n In 2013, the soccer great came back to earth somewhat due to the persistence of hamstring injuries, but he regained his record-breaking form by becoming the all-time leading scorer in La Liga and Champions League play in late 2014.\\n', 'score': 0.53385985, 'raw_content': None}], 'response_time': 1.47}\n"
          ]
        }
      ]
    },
    {
      "cell_type": "code",
      "source": [
        "# Generating context for a RAG Application\n",
        "\n",
        "from tavily import TavilyClient\n",
        "\n",
        "# Step 1. Instantiating your TavilyClient\n",
        "tavily_client = TavilyClient(api_key=TAVILY_API_KEY)\n",
        "\n",
        "# Step 2. Executing a context search query\n",
        "context = tavily_client.get_search_context(query=\"What happened during the Burning Man floods?\")\n",
        "\n",
        "# Step 3. That's it! You now have a context string that you can feed directly into your RAG Application\n",
        "print(context)"
      ],
      "metadata": {
        "colab": {
          "base_uri": "https://localhost:8080/"
        },
        "id": "4pXTO91XAw9C",
        "outputId": "2208b36b-d041-42c7-e696-56499eddd227"
      },
      "execution_count": null,
      "outputs": [
        {
          "output_type": "stream",
          "name": "stdout",
          "text": [
            "\"[\\\"{\\\\\\\"url\\\\\\\": \\\\\\\"https://www.aljazeera.com/news/2023/9/3/death-under-investigation-after-storm-flooding-at-burning-man-festival\\\\\\\", \\\\\\\"content\\\\\\\": \\\\\\\"just walked 5 miles in the mud out of burning man with chris rock and a fan picked us up pic.twitter.com/0uxSXLHgY6\\\\\\\\n\\\\\\\\u2014 diplo (@diplo) September 2, 2023\\\\\\\\nVehicle gates will not open for the remainder of the event, which began on August 27 and was scheduled to end on Monday, according to the US Bureau of Land Management, which oversees the Black Rock Desert where the festival is being held.\\\\\\\\n The Pershing County Sheriff\\\\\\\\u2019s Office said the death happened during the event in Black Rock City, but offered few details, declining to reveal the identity of the deceased person or the suspected cause of death, local TV channel KNSD reported.\\\\\\\\n Skip links\\\\\\\\nLive\\\\\\\\nNavigation menu\\\\\\\\nLive\\\\\\\\nDeath at Burning Man investigated in US, thousands stranded by flooding\\\\\\\\nThousands of festivalgoers remain stranded as organisers close vehicular traffic to the festival site following storm flooding in Nevada\\\\\\\\u2019s desert.\\\\\\\\n Authorities in Nevada are investigating a death at the site of the Burning Man festival, where thousands of attendees remained stranded after flooding from storms swept through the Nevada desert in the United States.\\\\\\\\n \\\\\\\\u201cIt is because of this that we are all well-prepared for a weather event like this.\\\\\\\\u201d\\\\\\\\nCelebrity DJ Diplo posted a video to Instagram on Saturday evening showing him and comedian Chris Rock riding in the back of a fan\\\\\\\\u2019s pick-up truck.\\\\\\\"}\\\", \\\"{\\\\\\\"url\\\\\\\": \\\\\\\"https://abcnews.go.com/US/burning-man-flooding-happened-stranded-festivalgoers/story?id=102908331\\\\\\\", \\\\\\\"content\\\\\\\": \\\\\\\"\\\\\\\\\\\\\\\"\\\\\\\\nTop Stories\\\\\\\\nMacy's Thanksgiving Day Parade temporarily halted by pro-Palestinian protesters\\\\\\\\nGuns N' Roses singer Axl Rose accused of alleged 1989 sexual assault by former model\\\\\\\\nFBI: Rainbow Bridge crash, explosion not connected to terrorism\\\\\\\\nToxic chemical spill from Kentucky train derailment forces residents to flee homes\\\\\\\\nHezbollah fires rockets at north Israel after an airstrike kills 5 of the group's senior fighters\\\\\\\\nABC News Live\\\\\\\\n24/7 coverage of breaking news and live events ABC News\\\\\\\\nVideo\\\\\\\\nLive\\\\\\\\nShows\\\\\\\\nElection 2024\\\\\\\\n538\\\\\\\\nStream on\\\\\\\\nBurning Man flooding: What happened to stranded festivalgoers?\\\\\\\\n In response to the unusual weather, event organizers shut down traffic in or out of what is called Black Rock City -- where the festival is held in the desert -- including the local airport.\\\\\\\\n MORE: These US regions will experience scorching temperatures for the remainder of Labor Day weekend\\\\\\\\nOn Sunday, mobile cell trailers to boost cell service and charging stations were placed around the festival grounds amid the recovery efforts, according to organizers.\\\\\\\\n This is typically the driest time of the year for the desert, and it does not take much rain to make the desert floor a mud bath.\\\\\\\\n\\\\\\\"}\\\", \\\"{\\\\\\\"url\\\\\\\": \\\\\\\"https://www.cnn.com/2023/09/05/us/burning-man-storms-shelter-exodus-tuesday/index.html\\\\\\\", \\\\\\\"content\\\\\\\": \\\\\\\"CNN values your feedback\\\\\\\\nBurning Man attendees make a mass exodus after a dramatic weekend that left thousands stuck in the Nevada desert\\\\\\\\nThousands of Burning Man attendees finally made their mass exodus after intense rain over the weekend flooded camp sites and filled them with thick, ankle-deep mud \\\\\\\\u2013 stranding more than 70,000 free-spirited revelers as they waited for the Nevada desert city to dry out.\\\\\\\\n Burning Man organizers lift driving ban after heavy rains left the event smothered in mud and trapped thousands\\\\\\\\nThe area was still muddy and parts were still difficult to navigate, organizers warned, and the wait time to leave the city Monday night was about seven hours. Diplo hitchhiked ride out of rain-drenched Burning Man after walking miles 'through the mud' and actually made it to his DC concert\\\\\\\\n\\\\\\\\u201cQuite a wet start to September for much of eastern CA-western NV,\\\\\\\\u201d the National Weather Service in Reno wrote on X. \\\\\\\\u201d \\\\\\\\u201cAs soon as the tents started getting water-logged or unlivable, people in RVs started taking in some of the tenters, so everybody was warm,\\\\\\\\u201d Kaz Qamruddin, who attended the event, told CNN\\\\\\\\u2019s Brianna Keilar Monday.\\\\\\\\n From wood blocks to 'poop buckets,' how Burning Man organizers told festivalgoers to prepare for heavy rain\\\\\\\\nAmong the early departures was music DJ Diplo, who told CNN he walked several miles in the muddy desert Saturday morning along with other celebrities, including Chris Rock, Cindy Crawford, Kaia Gerber and Austin Butler.\\\\\\\"}\\\", \\\"{\\\\\\\"url\\\\\\\": \\\\\\\"https://edition.cnn.com/us/live-news/nevada-desert-burning-man-weather-rain-09-03-23/h_1697a81277100cfb2e206d7933b10e2d\\\\\\\", \\\\\\\"content\\\\\\\": \\\\\\\"As it happened\\\\\\\\nThe 2024 Oscars\\\\\\\\nLive\\\\\\\\nWar in Gaza\\\\\\\\nThousands stranded at Burning Man festival after heavy rains\\\\\\\\nBy Maureen Chowdhury, Steve Almasy and Matt Meyer, CNN\\\\\\\\nWhat we're covering\\\\\\\\nWhat to know about Burning Man \\\\\\\\u2014 the festival where thousands are now stranded\\\\\\\\nFrom CNN Style's Katia Hetter, Jacqui Palumbo and Oscar Holland\\\\\\\\nA temporary city of some 80,000 people rises each year in the Black Rock Desert of Nevada. Rain caused a \\\\\\\\\\\\\\\"very mucky, muddy\\\\\\\\\\\\\\\" environment and made it difficult to walk at Burning Man, attendee says\\\\\\\\nFrom CNN's Michelle Watson\\\\\\\\nAndrew\\\\\\\\u00a0Hyde, an attendee stuck at the\\\\\\\\u00a0Burning\\\\\\\\u00a0Man\\\\\\\\u00a0festival in\\\\\\\\u00a0Nevada, said rain has made walking in the mud difficult, but that the harsh weather has taken the meaning of the event back to its roots.\\\\\\\\n The festival\\\\\\\\u2019s 2023 theme is \\\\\\\\u201cAnimalia,\\\\\\\\u201d which the Burning Man website explains, \\\\\\\\u201cwill celebrate the animal world and our place in it \\\\\\\\u2014 animals real and imagined, mythic and remembered \\\\\\\\u2014 and explore the curious mental constructs that allow us to believe that imagined animals are real, real animals are imagined, and that somehow, despite all evidence to the contrary, mankind is somehow not part of the animal kingdom.\\\\\\\\u201d\\\\\\\\n Burning Man organizers working to provide cell service and medical resources as attendees shelter in place\\\\\\\\nFrom CNN's Nouran Salahieh\\\\\\\\u00a0and\\\\\\\\u00a0Emma Tucker\\\\\\\\nBurning Man organizers say they are placing mobile cell trailers around the battered festival grounds, configuring their Wi-Fi system for public access, and sending buses to nearby Gerlach, Nevada, to pick up people who might have walked out of the desert and ferry them to Reno.\\\\\\\\n \\\\\\\\\\\\\\\"\\\\\\\\nOn Saturday tens of thousands of people attending the\\\\\\\\u00a0Burning\\\\\\\\u00a0Man\\\\\\\\u00a0festival were asked by\\\\\\\\u00a0festival organizers\\\\\\\\u00a0to conserve food, water and fuel as they shelter in place in the Black Rock Desert after a heavy rainstorm pummeled the area, CNN\\\\\\\\u00a0previously\\\\\\\\u00a0reported.\\\\\\\\n\\\\\\\"}\\\", \\\"{\\\\\\\"url\\\\\\\": \\\\\\\"https://apnews.com/article/burning-man-flooding-nevada-stranded-0726190c9f8378935e2a3cce7f154785\\\\\\\", \\\\\\\"content\\\\\\\": \\\\\\\"This photo, provided by Maxar Technologies, shows an overview of the center camp at the Burning Man festival on Monday, Sept. 4, 2023, in the Black Rock Desert north of Reno, Nev. Partygoers stranded for days at the counterculture festival by a late summer storm were allowed to start leaving Monday afternoon after muddy roads dried up enough for them to begin their exodus from the northern Nevada desert. This photo, provided by Maxar Technologies, shows an overview of the center camp at the Burning Man festival on Monday, Sept. 4, 2023, in the Black Rock Desert north of Reno, Nev. Partygoers stranded for days at the counterculture festival by a late summer storm were allowed to start leaving Monday afternoon after muddy roads dried up enough for them to begin their exodus from the northern Nevada desert. This photo, provided by Maxar Technologies, shows an overview of traffic leaving the Burning Man festival on Monday, Sept. 4, 2023, in the Black Rock Desert north of Reno, Nev. Partygoers stranded for days at the counterculture festival by a late summer storm were allowed to start leaving Monday afternoon after muddy roads dried up enough for them to begin their exodus from the northern Nevada desert. This photo, provided by Maxar Technologies, shows an overview of traffic leaving the Burning Man festival on Monday, Sept. 4, 2023, in the Black Rock Desert north of Reno, Nev. Partygoers stranded for days at the counterculture festival by a late summer storm were allowed to start leaving Monday afternoon after muddy roads dried up enough for them to begin their exodus from the northern Nevada desert. This photo, provided by Maxar Technologies, shows an overview of traffic leaving the Burning Man festival on Monday, Sept. 4, 2023, in the Black Rock Desert north of Reno, Nev. Partygoers stranded for days at the counterculture festival by a late summer storm were allowed to start leaving Monday afternoon after muddy roads dried up enough for them to begin their exodus from the northern Nevada desert.\\\\\\\"}\\\"]\"\n"
          ]
        }
      ]
    },
    {
      "cell_type": "code",
      "source": [
        "# Getting a quick answer to a question\n",
        "\n",
        "from tavily import TavilyClient\n",
        "\n",
        "# Step 1. Instantiating your TavilyClient\n",
        "tavily_client = TavilyClient(api_key=TAVILY_API_KEY)\n",
        "\n",
        "# Step 2. Executing a Q&A search query\n",
        "answer = tavily_client.qna_search(query=\"Who is Leo Messi?\")\n",
        "\n",
        "# Step 3. That's it! Your question has been answered!\n",
        "print(answer)"
      ],
      "metadata": {
        "colab": {
          "base_uri": "https://localhost:8080/"
        },
        "id": "3r-WvwVqDZ84",
        "outputId": "64aed00e-ba93-4c58-ca6f-9af9d940a282"
      },
      "execution_count": null,
      "outputs": [
        {
          "output_type": "stream",
          "name": "stdout",
          "text": [
            "Lionel Messi is an Argentine professional footballer who plays as a forward and captains Major League Soccer club Inter Miami and the Argentina national team. He has won eight Ballon d'Or awards, the most for any footballer, and holds the record for the most decorated player in the history of professional football with 45 team trophies. Messi led Argentina to victory in the 2022 FIFA World Cup, earning him high esteem among his compatriots. He is often compared to Cristiano Ronaldo, with both players pushing each other to be the best in the world.\n"
          ]
        }
      ]
    },
    {
      "cell_type": "code",
      "source": [],
      "metadata": {
        "id": "f4-rp-r1D1-z"
      },
      "execution_count": null,
      "outputs": []
    }
  ]
}